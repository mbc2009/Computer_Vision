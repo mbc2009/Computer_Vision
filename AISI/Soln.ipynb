{
  "cells": [
    {
      "cell_type": "markdown",
      "metadata": {
        "id": "view-in-github",
        "colab_type": "text"
      },
      "source": [
        "<a href=\"https://colab.research.google.com/github/mbc2009/Inferno/blob/main/AISI/Soln.ipynb\" target=\"_parent\"><img src=\"https://colab.research.google.com/assets/colab-badge.svg\" alt=\"Open In Colab\"/></a>"
      ]
    },
    {
      "cell_type": "markdown",
      "metadata": {
        "id": "Y475n-DE0jlO"
      },
      "source": [
        "<a href=\"https://colab.research.google.com/github/mbc2009/Inferno/blob/main/Soln.ipynb\" target=\"_parent\"><img src=\"https://colab.research.google.com/assets/colab-badge.svg\" alt=\"Open In Colab\"/></a>"
      ]
    },
    {
      "cell_type": "markdown",
      "metadata": {
        "id": "VUmjdeHY0jlU"
      },
      "source": [
        "**TOC**<a id='toc0_'></a>    \n",
        "1. [Q3](#toc1_)    \n",
        "1.1. [a](#toc1_1_)    \n",
        "1.1.1. [Principle of Operation](#toc1_1_1_)    \n",
        "\n",
        "<!-- vscode-jupyter-toc-config\n",
        "\tnumbering=true\n",
        "\tanchor=true\n",
        "\tflat=true\n",
        "\tminLevel=1\n",
        "\tmaxLevel=6\n",
        "\t/vscode-jupyter-toc-config -->\n",
        "<!-- THIS CELL WILL BE REPLACED ON TOC UPDATE. DO NOT WRITE YOUR TEXT IN THIS CELL -->"
      ]
    },
    {
      "cell_type": "markdown",
      "metadata": {
        "id": "6CFssgeW0jlU"
      },
      "source": [
        "# 1. <a id='toc1_'></a>[Q3](#toc0_)"
      ]
    },
    {
      "cell_type": "markdown",
      "metadata": {
        "id": "S5M_XVEa0jlV"
      },
      "source": [
        "## 1.1. <a id='toc1_1_'></a>[a](#toc0_)"
      ]
    },
    {
      "cell_type": "markdown",
      "metadata": {
        "id": "4szSp74Z0jlV"
      },
      "source": [
        "<!-------- Workflow -------->\n",
        "Basically, at each level, the GNN/MPNN model will iteratively excutes the following updating routine layer by layer:\n",
        "$$\n",
        "\\begin{aligned}\n",
        "\\textbf{Step 1.} \\, &\\textbf{Message generating}\\\\\n",
        "&\\boxed{\n",
        "  \\mathbf{m}^{ij,L}\n",
        "  \\;=\n",
        "  \\; M_L\n",
        "  \\left(\n",
        "    \\mathbf{n}^{i,L-1},\\,\n",
        "    \\mathbf{n}^{j,L-1},\\,\n",
        "    \\mathbf{e}^{ij,L-1}\\;\\;\n",
        "  \\right)\n",
        "}\\\\\n",
        "&\\text{\n",
        "$\\mathbf{m}^{ij,L}:$ Message array sending from node $i$ to node $j$ at ${L}^{\\{\\text{th}}$level}\\\\\n",
        "&\\text{\n",
        "$\\mathbf{n}^{i,L-1} \\& \\mathbf{n}^{j,L-1}:$  State (or attribute) array of node $i$ and node $j$ at previous ${L-1}^{\\text{th}}$ level.\n",
        "}\\\\\n",
        "&\\text{\n",
        "$\\mathbf{e}^{ij,L-1}:$ State (or attribute) arrayof edge between node $i$ and $j$, $(i,j)$ at at previous ${L-1}^{\\text{th}}$ level\n",
        "}\\\\\n",
        "&\\downarrow \\\\\n",
        "\\textbf{Step 2.} \\, &\\textbf{Node updating}\\\\\n",
        "&\\boxed{\n",
        "  \\mathbf{n}^{i,L}\n",
        "  \\;= \\;\n",
        "  U_L\\!\n",
        "  \\left(\n",
        "    \\mathbf{n}^{i,L-1},\\,\n",
        "    \\sum_{j \\in \\mathbf{N}(i)}\n",
        "    \\mathbf{m}^{ij,L}\\;\\;\n",
        "  \\right)\n",
        "}\\\\\n",
        "&\\text{\n",
        "  123\n",
        "}\\\\\n",
        "&\\downarrow\\\\\n",
        "\\textbf{Step 3.} \\, &\\textbf{Edge updating}\\\\\n",
        "&\\boxed{\n",
        "  \\mathbf{e}^{ij,L}\n",
        "  \\;=\\;\n",
        "  \\mathcal{N}_L\n",
        "  \\left(\n",
        "      \\mathbf{n}^{i,L},\\,\n",
        "      \\mathbf{n}^{j,L},\\,\n",
        "      \\mathbf{e}^{ij,L-1}\n",
        "  \\right)\n",
        "}\\\\\n",
        "&\\text{\n",
        "  123\n",
        "}\n",
        "\\end{aligned}\n",
        "$$\n",
        "\n",
        "<!-------- Equations explaination -------->\n",
        "More specifically, at ${L}^{\\text{th}}$ level, GNN/MPNN model excutes the updating routine by  ultilizing the information extracted rom prevous ${L-1}^{\\text{th}}$ level:\n",
        "\n",
        "**Update Formulas and Workflow**\n",
        "\n",
        "Given a universal GNN/MPNN structure with edge updates, the update rules at layer $L$ are defined as follows. The process iterates layer by layer, allowing local information to propagate through the graph.\n",
        "\n",
        "\n",
        "1. **Message Generation**  \n",
        "   The message $\\mathbf{m}^{ij,L}$ from node $j$ to node $i$ is generated based on the previous layer's node features and edge features:\n",
        "   $$\n",
        "   \\mathbf{m}^{ij,L} \\;=\\; M_L\\bigl(\\mathbf{n}^{i,L-1},\\, \\mathbf{n}^{j,L-1},\\, \\mathbf{e}^{ij,L-1}\\bigr)\n",
        "   $$\n",
        "   - \\(\\mathbf{m}^{ij,L}\\) is the message vector at layer \\(L\\).  \n",
        "   - \\(M_L\\) is the learnable message function (often an MLP or other neural module) that takes as input the node features \\(\\mathbf{n}^{i,L-1}\\), \\(\\mathbf{n}^{j,L-1}\\) and the edge features \\(\\mathbf{e}^{ij,L-1}\\).\n",
        "\n",
        "2. **Node Update**  \n",
        "   Each node \\(i\\) updates its feature \\(\\mathbf{n}^{i,L}\\) by aggregating all incoming messages:\n",
        "   $$\n",
        "   \\mathbf{n}^{i,L} \\;=\\; U_L\\!\\Bigl(\\mathbf{n}^{i,L-1},\\, \\sum_{j \\in \\mathbf{N}(i)} \\mathbf{m}^{ij,L}\\Bigr)\n",
        "   $$\n",
        "   - \\(\\mathbf{n}^{i,L}\\) is node \\(i\\)’s feature vector at layer \\(L\\).  \n",
        "   - \\(U_L\\) is the node update function, which fuses the node’s old state \\(\\mathbf{n}^{i,L-1}\\) with the sum of incoming messages.  \n",
        "   - \\(\\mathbf{N}(i)\\) is the set of neighbors of node \\(i\\).\n",
        "\n",
        "3. **Edge Update**  \n",
        "   After nodes are updated, each edge \\((i, j)\\) also gets updated based on the new node features and its previous edge features:\n",
        "   $$\n",
        "   \\mathbf{e}^{ij,L} \\;=\\; \\mathcal{N}_L\\bigl(\\mathbf{n}^{i,L},\\, \\mathbf{n}^{j,L},\\, \\mathbf{e}^{ij,L-1}\\bigr)\n",
        "   $$\n",
        "   - \\(\\mathbf{e}^{ij,L}\\) is the edge feature at layer \\(L\\).  \n",
        "   - \\(\\mathcal{N}_L\\) is the edge update function, which typically incorporates the newly updated node features \\(\\mathbf{n}^{i,L}, \\mathbf{n}^{j,L}\\) and the previous edge features \\(\\mathbf{e}^{ij,L-1}\\).\n",
        "\n",
        "### 1.1.1. <a id='toc1_1_1_'></a>[Principle of Operation](#toc0_)\n",
        "\n",
        "- **Iterative Layers**: The three steps (message generation, node update, and edge update) repeat across multiple layers. This iterative mechanism expands the “receptive field” of each node and edge, enabling global context to be captured over several layers.  \n",
        "- **Message Passing**: Each node’s feature is enriched by aggregated messages from its neighbors, ensuring local information flows through the graph.  \n",
        "- **Edge Update**: By also updating edge features, the model can dynamically adjust relationships between nodes according to the latest node states, enhancing representational power.\n",
        "\n",
        "Overall, this framework provides a flexible and powerful way to model node and edge attributes jointly, which is essential for many graph-based learning tasks.\n",
        "\n",
        "\n",
        "<!-------- Notation definition -------->\n",
        "The definitions of the notations employed in the given system of equations are provided below:\n",
        "$$\n",
        "\\begin{aligned}\n",
        "\\mathbf{e}&: \\text{Attribution array of edges}\\\\  \n",
        "\\mathbf{n}&: \\text{Attribution array of nodes}\\\\  \n",
        "\\mathbf{m}&: \\text{Message array}\\\\  \n",
        "\\mathbf{L}&: \\text{Layer index}\\\\  \n",
        "i,j &: \\text{Node indices}\\\\  \n",
        "\\mathbf{N}&: \\text{Neighborhood operator}\\\\  \n",
        "\\mathcal{N}&: \\text{Edges updating function}\\\\  \n",
        "\\mathcal{U}&: \\text{Nodes updating function}\\\\  \n",
        "\\mathcal{M}&: \\text{Message generating function}\\\\\n",
        "\\end{aligned}\n",
        "$$"
      ]
    }
  ],
  "metadata": {
    "colab": {
      "name": "Markdown Guide",
      "provenance": [],
      "toc_visible": true,
      "include_colab_link": true
    },
    "kernelspec": {
      "display_name": "Python 3",
      "name": "python3"
    }
  },
  "nbformat": 4,
  "nbformat_minor": 0
}