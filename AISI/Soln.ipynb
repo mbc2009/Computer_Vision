{
  "cells": [
    {
      "cell_type": "markdown",
      "metadata": {
        "id": "view-in-github",
        "colab_type": "text"
      },
      "source": [
        "<a href=\"https://colab.research.google.com/github/mbc2009/Inferno/blob/main/AISI/Soln.ipynb\" target=\"_parent\"><img src=\"https://colab.research.google.com/assets/colab-badge.svg\" alt=\"Open In Colab\"/></a>"
      ]
    },
    {
      "cell_type": "code",
      "execution_count": null,
      "metadata": {
        "colab": {
          "base_uri": "https://localhost:8080/"
        },
        "id": "Ee3biTigQBD8",
        "outputId": "623351b5-c551-4c99-91f2-db3036d07aee"
      },
      "outputs": [
        {
          "name": "stdout",
          "output_type": "stream",
          "text": [
            "Requirement already satisfied: plotly in /usr/local/anaconda3/envs/env4lammps/lib/python3.10/site-packages (6.0.1)\n",
            "Requirement already satisfied: narwhals>=1.15.1 in /usr/local/anaconda3/envs/env4lammps/lib/python3.10/site-packages (from plotly) (1.31.0)\n",
            "Requirement already satisfied: packaging in /usr/local/anaconda3/envs/env4lammps/lib/python3.10/site-packages (from plotly) (24.1)\n"
          ]
        }
      ],
      "source": [
        "! pip install -U plotly"
      ]
    },
    {
      "cell_type": "code",
      "execution_count": null,
      "metadata": {
        "id": "peOxmH08vziD"
      },
      "outputs": [],
      "source": [
        "import numpy as np\n",
        "import torch\n",
        "import torch.nn as nn\n",
        "import networkx as nx\n",
        "import plotly.graph_objects as go\n",
        "from plotly.subplots import make_subplots\n",
        "from IPython.display import Image\n",
        "import matplotlib.pyplot as plt\n",
        "import matplotlib.image as mpimg\n",
        "import requests\n",
        "from io import BytesIO\n",
        "from scipy.spatial.transform import Rotation"
      ]
    },
    {
      "cell_type": "markdown",
      "metadata": {
        "id": "IPU4pkhVvkRB"
      },
      "source": [
        "**TOC**<a id='toc0_'></a>    \n",
        "1. [QM/DFT/TB](#toc1_)    \n",
        "1.1. [Q1a](#toc1_1_)    \n",
        "1.2. [Q1b](#toc1_2_)    \n",
        "1.3. [Q1c](#toc1_3_)    \n",
        "2. [Q2: Group Theorem](#toc2_)    \n",
        "2.1. [Q2a](#toc2_1_)    \n",
        "2.2. [Q2b](#toc2_2_)    \n",
        "2.3. [Q2c](#toc2_3_)    \n",
        "3. [Q3: GNN/MPNN](#toc3_)    \n",
        "3.1. [Q3a](#toc3_1_)    \n",
        "3.2. [Q3b](#toc3_2_)    \n",
        "3.3. [Q3c](#toc3_3_)    \n",
        "3.4. [Q3d](#toc3_4_)    \n",
        "\n",
        "<!-- vscode-jupyter-toc-config\n",
        "\tnumbering=true\n",
        "\tanchor=true\n",
        "\tflat=true\n",
        "\tminLevel=1\n",
        "\tmaxLevel=6\n",
        "\t/vscode-jupyter-toc-config -->\n",
        "<!-- THIS CELL WILL BE REPLACED ON TOC UPDATE. DO NOT WRITE YOUR TEXT IN THIS CELL -->"
      ]
    },
    {
      "cell_type": "markdown",
      "metadata": {
        "id": "ULbI1DFpvkRD"
      },
      "source": [
        "---\n",
        "# 1. <a id='toc1_'></a>[QM/DFT/TB](#toc0_)"
      ]
    },
    {
      "cell_type": "markdown",
      "metadata": {
        "id": "QmDIYJyuvkRD"
      },
      "source": [
        "## 1.1. <a id='toc1_1_'></a>[Q1a](#toc0_)"
      ]
    },
    {
      "cell_type": "markdown",
      "metadata": {
        "id": "iyD5-tq32iHU"
      },
      "source": [
        "**Step 1: General Hamiltonian and Atomic Basis**\n",
        "\n",
        "To begin with, we start from the general form of [Hamiltonian operator](https://en.wikipedia.org/wiki/Hamiltonian_(quantum_mechanics)):\n",
        "$$\n",
        "\\begin{aligned}\n",
        "\\hat{H}\n",
        "&=\n",
        "\\hat{T} + \\hat{V} \\\\\n",
        "&=\n",
        "\\frac{\\mathbf{\\hat{p}} \\cdot \\mathbf{\\hat{p}}}{2m} + V(\\mathbf{r})\\\\\n",
        "&=\n",
        "-\\frac{\\hbar^2}{2m} \\nabla^2 + V(\\mathbf{r})\n",
        "\\end{aligned}\n",
        "$$\n",
        "where $V(\\mathbf{r})$ is the periodic potential due to the lattice.\n",
        "\n",
        "For a 1D chain with lattice constant $a$, the potential is periodic: $V(x + a) = V(x)$.\n",
        "In the [tight-binding (TB) model](https://en.wikipedia.org/wiki/Tight_binding), we approximate $V(x)$ as the sum of atomic potentials centered at each lattice site.\n",
        "\n",
        "Considering the atomic orbitals of a single atom. For an isolated atom at position $\\mathbf{r}_j = j a$, the Hamiltonian is:\n",
        "$$\n",
        "H_{\\text{atom}} = -\\frac{\\hbar^2}{2m} \\nabla^2 + U(x - j a)\n",
        "$$\n",
        "where $U(x - j a)$ is the atomic potential at site $j$.\n",
        "\n",
        "According to the general form of [Schrödinger equation](https://en.wikipedia.org/wiki/Schr%C3%B6dinger_equation):\n",
        "$$\n",
        "\\hat{H} \\,\n",
        "\\Psi(\\mathbf{r},t)\n",
        "=\n",
        "E \\,\n",
        "\\Psi(\\mathbf{r},t),\n",
        "$$\n",
        "the eigenstate of this atomic Hamiltonian can be derived as:\n",
        "$$\n",
        "\\left( -\\frac{\\hbar^2}{2m} \\frac{d^2}{dx^2} + U(x - j a) \\right) \\phi(x - j a) = E_0 \\phi(x - j a)\n",
        "$$\n",
        "where $\\phi(x - j a)$ is the atomic orbital centered at site $j$, which we denote as $|j\\rangle$. $E_0$ is the energy of the atomic orbital.\n",
        "\n",
        "\n",
        "\\\n",
        "**Step 2: Construct the Crystal Potential**\n",
        "\n",
        "In the crystal, the potential is the sum of atomic potentials from all sites:\n",
        "$$\n",
        "V(x)\n",
        "=\n",
        "\\sum_j U(x - j a)\n",
        "$$\n",
        "\n",
        "$\\therefore$ the full Hamiltonian becomes:\n",
        "$$\n",
        "H =\n",
        "-\\frac{\\hbar^2}{2m}\n",
        "\\frac{d^2}{dx^2} +\n",
        "\\sum_j U(x - j a)\n",
        "$$\n",
        "\n",
        "$\\because$ we can rewrite the potential as:\n",
        "$$\n",
        "V(x) = U(x - r_j) + \\sum_{j' \\neq j} U(x - r_{j'})\n",
        "$$\n",
        "\n",
        "$\\therefore$ the Hamiltonian for an electron near site $j$ is:\n",
        "$$\n",
        "\\begin{aligned}\n",
        "H &=\n",
        "\\left(\n",
        "\t-\\frac{\\hbar^2}{2m}\n",
        "\t\\frac{d^2}{dx^2}\n",
        "\t+ U(x - r_j)\n",
        "\\right)\n",
        "+ \\sum_{j'\n",
        "\\neq j} U(x - r_{j'})\\\\\n",
        "&=\n",
        "H_{\\text{atom}} +\n",
        "\\sum_{j' \\neq j}\n",
        "U(x - r_{j'})\n",
        "\\end{aligned}\n",
        "$$\n",
        "where the first part is the atomic Hamiltonian $H_{\\text{atom}}$, and the second part is the contribution from other atoms $\\sum_{j' \\neq j} U(x - r_{j'})$.\n",
        "\n",
        "In the [tight-binding (TB) approximation](https://www.youtube.com/watch?v=vGyHgaXnAMA), we assume the atomic orbitals are localized, so the contribution of $U(x - r_{j'})$ for $j' \\neq j$ is small unless $j'$ is a nearest neighbor.\n",
        "\n",
        "\n",
        "\\\n",
        "**Step 3: Tight-Binding Approximation and Matrix Elements**\n",
        "\n",
        "We use the atomic orbitals $\\phi(x - r_j)$ as the basis to construct the crystal wavefunction. The problem specifies that each atom has only one orbital and we neglect spin degrees of freedom. We assume the orbitals are orthogonal for simplicity: $\\langle j | j' \\rangle = \\delta_{jj'}$. The crystal wavefunction is expressed as:\n",
        "$$\n",
        "\\psi(x) = \\sum_j a_j \\phi(x - r_j)\n",
        "$$\n",
        "\n",
        "Substituting $|\\psi\\rangle$ into the Schrödinger equation $H|\\psi\\rangle = E|\\psi\\rangle$, we get:\n",
        "$$\n",
        "H \\sum_j a_j |j\\rangle = E \\sum_j a_j |j\\rangle\n",
        "$$\n",
        "\n",
        "Project onto $\\langle k|$, we have:\n",
        "$$\n",
        "\\sum_j a_j \\langle k | H | j \\rangle = E a_k\n",
        "$$\n",
        "\n",
        "We need to compute the matrix elements $\\langle k | H | j \\rangle$. For the on-site term ($k = j$):\n",
        "$$\n",
        "\\begin{aligned}\n",
        "\\langle k | H | k \\rangle\n",
        "&=\n",
        "\\langle k |\n",
        "\\left(\n",
        "-\\frac{\\hbar^2}{2m}\n",
        "\\frac{d^2}{dx^2} +\n",
        "\\sum_j U(x - r_j)\n",
        "\\right)\n",
        "| k \\rangle\\\\\n",
        "&=\n",
        "\\langle\n",
        "k |\n",
        "\\left(\n",
        "-\\frac{\\hbar^2}{2m}\n",
        "\\frac{d^2}{dx^2} +\n",
        "U(x - r_k)\n",
        "\\right) |\n",
        "k\n",
        "\\rangle +\n",
        "\\sum_{j \\neq k}\n",
        "\\langle\n",
        "k | U(x - r_j) | k\n",
        "\\rangle\n",
        "\\end{aligned}\n",
        "$$\n",
        "The first term is $\\langle k | H_{\\text{atom}} | k \\rangle = E_0$, and the second term is the correction due to other atoms:\n",
        "$$\n",
        "J_0 = \\langle k | U(x - r_j) | k \\rangle \\quad (j \\neq k)\n",
        "$$\n",
        "\n",
        "Since $\\phi(x - r_k)$ is localized, $J_0$ is typically small. In tight-binding models, this correction is often absorbed into the on-site energy as a constant shift, so we define:\n",
        "$$\n",
        "\\epsilon = E_0 - J_0\n",
        "$$\n",
        "Thus:\n",
        "$$\n",
        "\\langle k | H | k \\rangle \\approx \\epsilon\n",
        "$$\n",
        "\n",
        "For off-diagonal terms ($k \\neq j$):\n",
        "$$\n",
        "\\langle k | H | j \\rangle = \\langle k | \\left( -\\frac{\\hbar^2}{2m} \\frac{d^2}{dx^2} + \\sum_m U(x - r_m) \\right) | j \\rangle\n",
        "$$\n",
        "\n",
        "The dominant contribution comes from the potential at site $j$:\n",
        "$$\n",
        "\\langle k | U(x - r_j) | j \\rangle = \\int \\phi^*(x - r_k) U(x - r_j) \\phi(x - r_j) \\, dx\n",
        "$$\n",
        "\n",
        "We define the hopping integral:\n",
        "$$\n",
        "J_n = - \\int \\phi^*(x - r_m) U(x - r_j) \\phi(x - r_j) \\, dx \\quad (r_m - r_j = n a)\n",
        "$$\n",
        "\n",
        "For nearest neighbors ($n = \\pm 1$):\n",
        "$$\n",
        "J_1 = - \\int \\phi^*(x - r_k) U(x - r_{k+1}) \\phi(x - r_{k+1}) \\, dx\n",
        "$$\n",
        "\n",
        "$\\therefore$ we have:\n",
        "$$\n",
        "\\langle k | H | k+1 \\rangle \\approx - J_1\n",
        "$$\n",
        "\n",
        "Since the system is symmetric, $\\langle k+1 | H | k \\rangle = \\langle k | H | k+1 \\rangle^* = - J_1$ (assuming real orbitals). \\\n",
        "\n",
        "In tight-binding models, we define the hopping parameter $t = -J_1$. Since $J_1$ is typically negative (due to the attractive nature of $U$), $t$ is positive.\n",
        "\n",
        "\n",
        "\\\n",
        "**Step 4: Construct the Tight-Binding Hamiltonian**\n",
        "\n",
        "Using the nearest-neighbor approximation, the tight-binding Hamiltonian is:\n",
        "$$\n",
        "H = \\sum_k \\epsilon |k\\rangle\\langle k| - \\sum_k J_1 \\left( |k\\rangle\\langle k+1| + |k+1\\rangle\\langle k| \\right)\n",
        "$$\n",
        "\n",
        "Substituting $t = -J_1$, we rewrite the Hamiltonian as:\n",
        "$$\n",
        "H = \\sum_k \\epsilon |k\\rangle\\langle k| + \\sum_k t \\left( |k\\rangle\\langle k+1| + |k+1\\rangle\\langle k| \\right)\n",
        "$$\n",
        "\n",
        "\n",
        "\\\n",
        "**Step 5: Apply Bloch's Theorem to Solve Energy Bands**\n",
        "\n",
        "Now we use [Bloch's theorem](https://en.wikipedia.org/wiki/Bloch%27s_theorem) for a periodic system. The wavefunction takes the form:\n",
        "$$\n",
        "|\\psi_k\\rangle = \\sum_n e^{ikna} |n\\rangle\n",
        "$$\n",
        "where $k$ is the wavevector in the first Brillouin zone $[-\\pi/a, \\pi/a]$.\n",
        "\n",
        "Substitute into $H|\\psi_k\\rangle = E(k)|\\psi_k\\rangle$:\n",
        "$$\n",
        "H|\\psi_k\\rangle = \\sum_n e^{ikna} \\left( \\epsilon |n\\rangle - J_1 |n-1\\rangle - J_1 |n+1\\rangle \\right)\n",
        "$$\n",
        "\n",
        "The on-site term gives:\n",
        "$$\n",
        "\\epsilon |\\psi_k\\rangle = \\epsilon \\sum_n e^{ikna} |n\\rangle\n",
        "$$\n",
        "\n",
        "The hopping term gives:\n",
        "$$\n",
        "-J_1 \\sum_n e^{ikna} \\left( |n-1\\rangle + |n+1\\rangle \\right) = -J_1 \\left( e^{-ika} + e^{ika} \\right) \\sum_n e^{ikna} |n\\rangle\n",
        "$$\n",
        "\n",
        "Since:\n",
        "$$\n",
        "e^{ika} + e^{-ika} = 2 \\cos(ka)\n",
        "$$\n",
        "and $t = -J_1$, the hopping term becomes:\n",
        "$$\n",
        "-J_1 (e^{ika} + e^{-ika}) |\\psi_k\\rangle = -J_1 \\cdot 2 \\cos(ka) |\\psi_k\\rangle = 2 t \\cos(ka) |\\psi_k\\rangle\n",
        "$$\n",
        "\n",
        "Thus, the eigenvalue equation is:\n",
        "$$\n",
        "\\left( \\epsilon + 2 t \\cos(ka) \\right) |\\psi_k\\rangle = E(k) |\\psi_k\\rangle\n",
        "$$\n",
        "\n",
        "The energy dispersion relation is:\n",
        "$$\n",
        "\\boxed{\n",
        "E(k) = \\epsilon + 2t \\cos(ka)\n",
        "}\n",
        "$$"
      ]
    },
    {
      "cell_type": "code",
      "execution_count": null,
      "metadata": {
        "colab": {
          "base_uri": "https://localhost:8080/",
          "height": 472
        },
        "id": "RfO0P4Nw5KAa",
        "outputId": "894d69ba-2905-41ad-e46b-0f8b5bfa95e2"
      },
      "outputs": [
        {
          "data": {
            "image/png": "[encoded data removed]",
            "text/plain": [
              "<Figure size 640x480 with 1 Axes>"
            ]
          },
          "metadata": {},
          "output_type": "display_data"
        }
      ],
      "source": [
        "# Parameters\n",
        "a = 1.0                           # lattice constant (arbitrary units)\n",
        "epsilon0 = 0.0                    # on-site energy (arbitrary units)\n",
        "t = -1.0                          # hopping parameter (arbitrary units)\n",
        "k_points = np.linspace(-np.pi/a,  # k-points in Brillouin zone\n",
        "                       np.pi/a, 100)\n",
        "\n",
        "# Energy dispersion\n",
        "E_k = epsilon0 + 2 * t * np.cos(k_points * a)  # 修正符号\n",
        "\n",
        "# Plot\n",
        "plt.plot(k_points, E_k, label='Energy Band')\n",
        "plt.xlabel('k (1/a)')\n",
        "plt.ylabel('E (eV)')\n",
        "plt.title('Tight-Binding Band Structure (1D Chain)')\n",
        "plt.legend()\n",
        "plt.grid(True)\n",
        "plt.show()"
      ]
    },
    {
      "cell_type": "markdown",
      "metadata": {
        "id": "DOQFg1gRvkRG"
      },
      "source": [
        "---\n",
        "## 1.2. <a id='toc1_2_'></a>[Q1b](#toc0_)"
      ]
    },
    {
      "cell_type": "markdown",
      "metadata": {
        "id": "E0flZMqG7cBW"
      },
      "source": [
        "**Step 1: Define the System and Basis**\\\n",
        "The positions of atoms in the $n$-th unit cell are:\n",
        "- Atom A at $x = na$,\n",
        "- Atom B at $x = na + d$ (where $d$ is the distance between A and B within the cell; for simplicity, assume uniform spacing, so $d = a/2$).\n",
        "\n",
        "Each atom has one orbital, and we neglect spin. The basis for the $ n $-th unit cell consists of:\n",
        "- $|n, A\\rangle$: orbital on atom A,\n",
        "- $|n, B\\rangle$: orbital on atom B.\n",
        "\n",
        "The on-site energies are:\n",
        "- $ \\epsilon_A = \\langle n, A | H | n, A \\rangle $,\n",
        "- $ \\epsilon_B = \\langle n, B | H | n, B \\rangle $.\n",
        "\n",
        "We assume the orbitals are orthogonal: $ \\langle n, \\alpha | m, \\beta \\rangle = \\delta_{nm} \\delta_{\\alpha\\beta} $, where $ \\alpha, \\beta = A, B $.\n",
        "\n",
        "\n",
        "\\\n",
        "**Step 2: Construct the Tight-Binding Hamiltonian**\\\n",
        "Using the nearest-neighbor approximation (as in Q1a), we consider hopping between adjacent atoms. The hopping parameter $ t $ (where $ t > 0 $) is defined as:\n",
        "$$\n",
        "t = -\\langle n, A | H | n, B \\rangle = -\\langle n, B | H | n+1, A \\rangle,\n",
        "$$\n",
        "assuming symmetry in hopping between A and B.\n",
        "\n",
        "The Hamiltonian includes:\n",
        "- On-site terms: $ \\epsilon_A |n, A\\rangle\\langle n, A| $, $ \\epsilon_B |n, B\\rangle\\langle n, B| $.\n",
        "- Hopping within the unit cell (A to B): $ -t |n, A\\rangle\\langle n, B| - t |n, B\\rangle\\langle n, A| $.\n",
        "- Hopping between unit cells (B to A of the next cell): $ -t |n, B\\rangle\\langle n+1, A| - t |n+1, A\\rangle\\langle n, B| $.\n",
        "\n",
        "Thus, the Hamiltonian is:\n",
        "$$\n",
        "\\begin{aligned}\n",
        "H\n",
        "&=\n",
        "\\sum_n\n",
        "\\bigg(\n",
        "\\epsilon_A |n, A\\rangle\\langle n, A|\n",
        "+ \\epsilon_B |n, B\\rangle\\langle n, B| \\\\\n",
        "&\\quad - t \\big(\n",
        "|n, A\\rangle\\langle n, B|\n",
        "+ |n, B\\rangle\\langle n, A|\n",
        "+ |n, B\\rangle\\langle n+1, A|\n",
        "+ |n+1, A\\rangle\\langle n, B|\n",
        "\\big)\n",
        "\\bigg).\n",
        "\\end{aligned}\n",
        "$$\n",
        "\n",
        "\n",
        "\\\n",
        "**Step 3: Apply Bloch's Theorem**\\\n",
        "The wavefunction for a Bloch state with wavevector $ k $ is:\n",
        "$$\n",
        "|\\psi_k\\rangle = \\sum_n e^{ikna} \\left( a_k |n, A\\rangle + b_k |n, B\\rangle \\right),\n",
        "$$\n",
        "where $ a_k $ and $ b_k $ are the coefficients for the A and B orbitals in the Bloch state.\n",
        "\n",
        "Substitute into the Schrödinger equation $ H|\\psi_k\\rangle = E|\\psi_k\\rangle $, and project onto $ \\langle m, A| $ and $ \\langle m, B| $:\n",
        "\n",
        "- **Project onto $ \\langle m, A| $**:\n",
        "$$\n",
        "\\langle m, A | H | \\psi_k \\rangle = \\epsilon_A a_k e^{ikma} - t b_k e^{ikma} - t b_k e^{ik(m-1)a} = E a_k e^{ikma}.\n",
        "$$\n",
        "Divide through by $ e^{ikma} $:\n",
        "$$\n",
        "\\epsilon_A a_k - t b_k - t b_k e^{-ika} = E a_k.\n",
        "$$\n",
        "\n",
        "- **Project onto $ \\langle m, B| $**:\n",
        "$$\n",
        "\\langle m, B | H | \\psi_k \\rangle = \\epsilon_B b_k e^{ikma} - t a_k e^{ikma} - t a_k e^{ik(m+1)a} = E b_k e^{ikma}.\n",
        "$$\n",
        "Divide through by $ e^{ikma} $:\n",
        "$$\n",
        "\\epsilon_B b_k - t a_k - t a_k e^{ika} = E b_k.\n",
        "$$\n",
        "\n",
        "This gives the matrix equation:\n",
        "$$\n",
        "\\begin{pmatrix}\n",
        "\\epsilon_A - E & -t (1 + e^{-ika}) \\\\\n",
        "-t (1 + e^{ika}) & \\epsilon_B - E\n",
        "\\end{pmatrix}\n",
        "\\begin{pmatrix}\n",
        "a_k \\\\\n",
        "b_k\n",
        "\\end{pmatrix}\n",
        "= 0.\n",
        "$$\n",
        "\n",
        "\n",
        "\\\n",
        "**Step 4: Solve the Secular Equation**\\\n",
        "For a non-trivial solution, the determinant must be zero:\n",
        "$$\n",
        "(\\epsilon_A - E)(\\epsilon_B - E) - t^2 (1 + e^{-ika})(1 + e^{ika}) = 0.\n",
        "$$\n",
        "\n",
        "Compute the hopping term:\n",
        "$$\n",
        "(1 + e^{-ika})(1 + e^{ika}) = 1 + e^{ika} + e^{-ika} + 1 = 2 + 2 \\cos(ka) = 4 \\cos^2(ka/2),\n",
        "$$\n",
        "since $ 1 + \\cos(ka) = 2 \\cos^2(ka/2) $.\n",
        "\n",
        "The equation becomes:\n",
        "$$\n",
        "(\\epsilon_A - E)(\\epsilon_B - E) - 4 t^2 \\cos^2(ka/2) = 0.\n",
        "$$\n",
        "\n",
        "Expand and rearrange:\n",
        "$$\n",
        "E^2 - (\\epsilon_A + \\epsilon_B) E + \\epsilon_A \\epsilon_B - 4 t^2 \\cos^2(ka/2) = 0.\n",
        "$$\n",
        "\n",
        "Solve the quadratic equation for $ E $:\n",
        "$$\n",
        "E = \\frac{\\epsilon_A + \\epsilon_B \\pm \\sqrt{(\\epsilon_A + \\epsilon_B)^2 - 4 (\\epsilon_A \\epsilon_B - 4 t^2 \\cos^2(ka/2))}}{2}.\n",
        "$$\n",
        "\n",
        "Simplify the discriminant:\n",
        "$$\n",
        "(\\epsilon_A + \\epsilon_B)^2 - 4 (\\epsilon_A \\epsilon_B - 4 t^2 \\cos^2(ka/2)) = (\\epsilon_A - \\epsilon_B)^2 + 16 t^2 \\cos^2(ka/2).\n",
        "$$\n",
        "\n",
        "\n",
        "$\\therefore$ the energy bands are:\n",
        "$$\n",
        "\\boxed{E = \\frac{\\epsilon_A + \\epsilon_B}{2} \\pm \\sqrt{\\left(\\frac{\\epsilon_A - \\epsilon_B}{2}\\right)^2 + 4 t^2 \\cos^2(ka/2)}}\n",
        "$$\n"
      ]
    },
    {
      "cell_type": "code",
      "execution_count": null,
      "metadata": {
        "colab": {
          "base_uri": "https://localhost:8080/",
          "height": 564
        },
        "id": "kPMiQEzO7XdJ",
        "outputId": "6862ed62-1651-413e-9423-9c3800a91166"
      },
      "outputs": [
        {
          "data": {
            "image/png": "[encoded data removed]",
            "text/plain": [
              "<Figure size 800x600 with 1 Axes>"
            ]
          },
          "metadata": {},
          "output_type": "display_data"
        }
      ],
      "source": [
        "# Define parameters\n",
        "a = 1.0           # Lattice constant\n",
        "epsilon_A = 1.0   # On-site energy for atom A\n",
        "epsilon_B = 2.0   # On-site energy for atom B\n",
        "t = 0.5           # Hopping parameter (positive)\n",
        "\n",
        "# Define k-points in the first Brillouin zone [-pi/a, pi/a]\n",
        "k = np.linspace(-np.pi/a, np.pi/a, 1000)\n",
        "\n",
        "# Compute the energy bands\n",
        "'''\n",
        "E(k) = (epsilon_A + epsilon_B)/2 ± sqrt(((epsilon_A - epsilon_B)/2)^2 + 4*t^2*cos^2(ka/2))\n",
        "'''\n",
        "term1 = (epsilon_A + epsilon_B) / 2\n",
        "term2 = np.sqrt(((epsilon_A - epsilon_B) / 2)**2 + 4 * t**2 * np.cos(k * a / 2)**2)\n",
        "\n",
        "E_plus = term1  + term2  # Upper band\n",
        "E_minus = term1 - term2  # Lower band\n",
        "\n",
        "# Plot the energy bands\n",
        "plt.figure(figsize=(8, 6))\n",
        "plt.plot(k, E_plus, label='Upper Band')\n",
        "plt.plot(k, E_minus, label='Lower Band')\n",
        "plt.xlabel('k (1/a)')\n",
        "plt.ylabel('Energy')\n",
        "plt.title('Energy Bands of 1D Chain with Two Atoms per Unit Cell (Tight-Binding)')\n",
        "plt.axvline(x=0, color='gray', linestyle='--', linewidth=0.5)\n",
        "plt.grid(True)\n",
        "plt.legend()\n",
        "plt.show()"
      ]
    },
    {
      "cell_type": "markdown",
      "metadata": {
        "id": "tr-K6nfOvkRH"
      },
      "source": [
        "---\n",
        "## 1.3. <a id='toc1_3_'></a>[Q1c](#toc0_)"
      ]
    },
    {
      "cell_type": "markdown",
      "metadata": {
        "id": "yY1xSG0H9_eY"
      },
      "source": [
        "**Step 1: Define the System and Basis**\\\n",
        "The chain has a lattice constant $a$, with each unit cell containing two atoms:\n",
        "- Atom A (blue) at $x = na$,\n",
        "- Atom B (red) at $x = na + d$, where $d < a/2$ due to non-uniform spacing.\n",
        "\n",
        "Each atom has one orbital, and we neglect spin. The basis for the $ n $-th unit cell is:\n",
        "- $ |n, A\\rangle $: orbital on atom A,\n",
        "- $ |n, B\\rangle $: orbital on atom B.\n",
        "\n",
        "On-site energies are $ \\epsilon_A $ and $ \\epsilon_B $, and we assume orthogonality: $ \\langle n, \\alpha | m, \\beta \\rangle = \\delta_{nm} \\delta_{\\alpha\\beta} $.\n",
        "\n",
        "\n",
        "\\\n",
        "**Step 2: Construct the Tight-Binding Hamiltonian**\\\n",
        "Due to non-uniform spacing, the hopping terms differ:\n",
        "- Distance between A and B within the same cell ($ n $-th cell): $ d $,\n",
        "- Distance between B and A of the next cell ($ (n+1) $-th cell): $ a - d $.\n",
        "\n",
        "Define the hopping parameters:\n",
        "- $ t_1 = -\\langle n, A | H | n, B \\rangle $: hopping within the unit cell (distance $ d $),\n",
        "- $ t_2 = -\\langle n, B | H | n+1, A \\rangle $: hopping between unit cells (distance $ a - d $).\n",
        "\n",
        "The Hamiltonian includes:\n",
        "- On-site terms: $ \\epsilon_A |n, A\\rangle\\langle n, A| $, $ \\epsilon_B |n, B\\rangle\\langle n, B| $,\n",
        "- Hopping within the unit cell: $ -t_1 |n, A\\rangle\\langle n, B| - t_1 |n, B\\rangle\\langle n, A| $,\n",
        "- Hopping between unit cells: $ -t_2 |n, B\\rangle\\langle n+1, A| - t_2 |n+1, A\\rangle\\langle n, B| $.\n",
        "\n",
        "Thus:\n",
        "$$\n",
        "\\begin{aligned}\n",
        "H &= \\sum_n \\bigg(\n",
        "    \\epsilon_A |n, A\\rangle\\langle n, A|\n",
        "    + \\epsilon_B |n, B\\rangle\\langle n, B| \\\\\n",
        "&\\quad - t_1 \\big(\n",
        "|n, A\\rangle\\langle n, B|\n",
        "    + |n, B\\rangle\\langle n, A| \\big)\n",
        "- t_2 \\big( |n, B\\rangle\\langle n+1, A|\n",
        "    + |n+1, A\\rangle\\langle n, B|\n",
        "\\big)\n",
        "\\bigg).\n",
        "\\end{aligned}\n",
        "$$\n",
        "\n",
        "\n",
        "\n",
        "\\\n",
        "**Step 3: Apply Bloch's Theorem**\\\n",
        "Using the Bloch wavefunction from Q1b:\n",
        "$$\n",
        "|\\psi_k\\rangle = \\sum_n e^{ikna} \\left( a_k |n, A\\rangle + b_k |n, B\\rangle \\right),\n",
        "$$\n",
        "substitute into $ H|\\psi_k\\rangle = E|\\psi_k\\rangle $, and project onto $ \\langle m, A| $ and $ \\langle m, B| $:\n",
        "\n",
        "- **Project onto $ \\langle m, A| $**:\n",
        "$$\n",
        "\\epsilon_A a_k e^{ikma} - t_1 b_k e^{ikma} - t_2 b_k e^{ik(m-1)a} = E a_k e^{ikma},\n",
        "$$\n",
        "$$\n",
        "\\epsilon_A a_k - t_1 b_k - t_2 b_k e^{-ika} = E a_k.\n",
        "$$\n",
        "\n",
        "- **Project onto $ \\langle m, B| $**:\n",
        "$$\n",
        "\\epsilon_B b_k e^{ikma} - t_1 a_k e^{ikma} - t_2 a_k e^{ik(m+1)a} = E b_k e^{ikma},\n",
        "$$\n",
        "$$\n",
        "\\epsilon_B b_k - t_1 a_k - t_2 a_k e^{ika} = E b_k.\n",
        "$$\n",
        "\n",
        "This gives the matrix equation:\n",
        "$$\n",
        "\\begin{pmatrix}\n",
        "\\epsilon_A - E & -t_1 - t_2 e^{-ika} \\\\\n",
        "-t_1 - t_2 e^{ika} & \\epsilon_B - E\n",
        "\\end{pmatrix}\n",
        "\\begin{pmatrix}\n",
        "a_k \\\\\n",
        "b_k\n",
        "\\end{pmatrix}\n",
        "= 0.\n",
        "$$\n",
        "\n",
        "\n",
        "\n",
        "\\\n",
        "**Step 4: Solve the Secular Equation**\\\n",
        "Set the determinant to zero:\n",
        "$$\n",
        "(\\epsilon_A - E)(\\epsilon_B - E) - (t_1 + t_2 e^{-ika})(t_1 + t_2 e^{ika}) = 0.\n",
        "$$\n",
        "\n",
        "Compute the hopping term:\n",
        "$$\n",
        "(t_1 + t_2 e^{-ika})(t_1 + t_2 e^{ika}) = t_1^2 + t_2^2 + t_1 t_2 (e^{ika} + e^{-ika}) = t_1^2 + t_2^2 + 2 t_1 t_2 \\cos(ka).\n",
        "$$\n",
        "\n",
        "The equation becomes:\n",
        "$$\n",
        "(\\epsilon_A - E)(\\epsilon_B - E) - (t_1^2 + t_2^2 + 2 t_1 t_2 \\cos(ka)) = 0.\n",
        "$$\n",
        "\n",
        "Expand and solve the quadratic equation:\n",
        "$$\n",
        "E^2 - (\\epsilon_A + \\epsilon_B) E + \\epsilon_A \\epsilon_B - (t_1^2 + t_2^2 + 2 t_1 t_2 \\cos(ka)) = 0.\n",
        "$$\n",
        "\n",
        "Discriminant:\n",
        "$$\n",
        "\\Delta = (\\epsilon_A + \\epsilon_B)^2 - 4 \\left( \\epsilon_A \\epsilon_B - (t_1^2 + t_2^2 + 2 t_1 t_2 \\cos(ka)) \\right) = (\\epsilon_A - \\epsilon_B)^2 + 4 (t_1^2 + t_2^2 + 2 t_1 t_2 \\cos(ka)).\n",
        "$$\n",
        "\n",
        "\n",
        "$\\therefore$ the energy bands are:\n",
        "$$\n",
        "\\boxed{E = \\frac{\\epsilon_A + \\epsilon_B}{2} \\pm \\sqrt{\\left(\\frac{\\epsilon_A - \\epsilon_B}{2}\\right)^2 + t_1^2 + t_2^2 + 2 t_1 t_2 \\cos(ka)}}\n",
        "$$"
      ]
    },
    {
      "cell_type": "code",
      "execution_count": null,
      "metadata": {
        "colab": {
          "base_uri": "https://localhost:8080/",
          "height": 564
        },
        "id": "rY1DkI3f-C6I",
        "outputId": "16c9b956-9163-47dc-faa9-8dbb7bd01ccf"
      },
      "outputs": [
        {
          "data": {
            "image/png": "[encoded data removed]",
            "text/plain": [
              "<Figure size 800x600 with 1 Axes>"
            ]
          },
          "metadata": {},
          "output_type": "display_data"
        }
      ],
      "source": [
        "# Define parameters\n",
        "a = 1.0  # Lattice constant\n",
        "epsilon_A = 1.0  # On-site energy for atom A\n",
        "epsilon_B = 2.0  # On-site energy for atom B\n",
        "t1 = 0.5         # ⚠️ Hopping parameter within unit cell (A to B)\n",
        "t2 = 0.3         # ⚠️ Hopping parameter between unit cells (B to next A)\n",
        "\n",
        "# Define k-points in the first Brillouin zone [-pi/a, pi/a]\n",
        "k = np.linspace(-np.pi/a, np.pi/a, 1000)\n",
        "\n",
        "# Compute the energy bands\n",
        "'''\n",
        "E(k) = (epsilon_A + epsilon_B)/2 ± sqrt(((epsilon_A - epsilon_B)/2)^2 + t1^2 + t2^2 + 2*t1*t2*cos(ka))\n",
        "'''\n",
        "term1 = (epsilon_A + epsilon_B) / 2\n",
        "term2 = np.sqrt(((epsilon_A - epsilon_B) / 2)**2 + t1**2 + t2**2 + 2 * t1 * t2 * np.cos(k * a))\n",
        "\n",
        "E_plus = term1  + term2  # Upper band\n",
        "E_minus = term1 - term2  # Lower band\n",
        "\n",
        "# Plot the energy bands\n",
        "plt.figure(figsize=(8, 6))\n",
        "plt.plot(k, E_plus, label='Upper Band')\n",
        "plt.plot(k, E_minus, label='Lower Band')\n",
        "plt.xlabel('k (1/a)')\n",
        "plt.ylabel('Energy')\n",
        "plt.title('Energy Bands of 1D Chain with Non-Uniform Spacing (Tight-Binding)')\n",
        "plt.axvline(x=0, color='gray', linestyle='--', linewidth=0.5)\n",
        "plt.grid(True)\n",
        "plt.legend()\n",
        "plt.show()"
      ]
    },
    {
      "cell_type": "markdown",
      "metadata": {
        "id": "RfccUNa7vkRJ"
      },
      "source": [
        "---\n",
        "# 2. <a id='toc2_'></a>[Q2: Group Theorem](#toc0_)"
      ]
    },
    {
      "cell_type": "markdown",
      "metadata": {
        "id": "xUUSZu-BvkRJ"
      },
      "source": [
        "## 2.1. <a id='toc2_1_'></a>[Q2a](#toc0_)"
      ]
    },
    {
      "cell_type": "markdown",
      "metadata": {
        "id": "o7gEvtIUAjwl"
      },
      "source": [
        "**E(3) Group**\n",
        "The E(3) group, known as the [Euclidean group](https://en.wikipedia.org/wiki/Euclidean_group) in three dimensions, consists of all isometries preserving distances in 3D space. It is the semidirect product of the special orthogonal group SO(3) (rotations) and the translation group T(3), denoted as \\( E(3) = SO(3) \\ltimes T(3) \\). This group captures both rotational and translational symmetries, critical for describing physical systems in 3D.\n",
        "\n",
        "\\\n",
        "**Relation with SO(3) and O(3)**\\\n",
        "- [SO(3)](https://en.wikipedia.org/wiki/3D_rotation_group): The special orthogonal group in 3D, comprising proper rotations (3×3 matrices with determinant +1). It is a subgroup of E(3), focusing solely on rotational symmetry.\n",
        "- [O(3)](https://en.wikipedia.org/wiki/Orthogonal_group): The orthogonal group in 3D, including both proper rotations (SO(3)) and improper rotations (e.g., reflections, determinant ±1). While O(3) extends SO(3) by adding reflections, E(3) further incorporates translations, making O(3) a subgroup of E(3) when translations are excluded.\n",
        "\n",
        "\\\n",
        "**Clebsch-Gordan Coefficients**\\\n",
        "[Clebsch-Gordan coefficients](https://en.wikipedia.org/wiki/Clebsch%E2%80%93Gordan_coefficients) are coefficients used in quantum mechanics to couple two angular momentum states into a total angular momentum state.\\\n",
        "For two states $|j_1 m_1\\rangle$ and $|j_2 m_2\\rangle$, the combined state is:\n",
        "$$\n",
        "|J M\\rangle = \\sum_{m_1, m_2} \\langle j_1 m_1 j_2 m_2 | J M \\rangle |j_1 m_1\\rangle |j_2 m_2\\rangle,\n",
        "$$\n",
        "where $\\langle j_1 m_1 j_2 m_2 | J M \\rangle$ are the Clebsch-Gordan coefficients.\n",
        "They decompose the tensor product of SO(3) representations ($j_1 \\otimes j_2$) into a direct sum of irreducible representations, essential for symmetry analysis in physical systems."
      ]
    },
    {
      "cell_type": "markdown",
      "metadata": {
        "id": "i7zh-9DhvkRK"
      },
      "source": [
        "---\n",
        "## 2.2. <a id='toc2_2_'></a>[Q2b](#toc0_)"
      ]
    },
    {
      "cell_type": "markdown",
      "metadata": {
        "id": "osfGcqLZa5YD"
      },
      "source": [
        "[Equivariance](https://en.wikipedia.org/wiki/Equivariant_map) refers to a property where a function or operator transforms consistently under a group action, such as the E(3) group of 3D rotations and translations.\n",
        "\n",
        "Unlike invariance (where the output remains unchanged), equivariance ensures the output transforms in a predictable way aligned with the input's transformation, preserving physical consistency.\n",
        "\n",
        "Mathematically, for a quantum operator $\\hat{O}$ in an atomic orbital basis and a rotation $R \\in SO(3)$, equivariance requires:\n",
        "$$\n",
        "\\hat{O}' = U(R) \\hat{O} U(R)^\\dagger,\n",
        "$$\n",
        "where $U(R)$ is the unitary representation of $R$ in the basis. For p-orbitals ($l = 1$), $U(R)$ is a 3^3 rotation matrix acting on $\\{p_x, p_y, p_z\\}$, reflecting their vector-like transformation.\n",
        "\n",
        "**Examples**:\n",
        "- **Vector field**: An electric field $\\mathbf{E}$ rotates as $\\mathbf{E}' = R \\mathbf{E}$ under SO(3).\n",
        "- **Stress tensor**: A rank-2 tensor transforms as $\\sigma'_{ij} = R_{ik} R_{jl} \\sigma_{kl}$, maintaining its physical meaning under rotations."
      ]
    },
    {
      "cell_type": "markdown",
      "metadata": {
        "id": "p5Kmoxo4vkRK"
      },
      "source": [
        "---\n",
        "## 2.3. <a id='toc2_3_'></a>[Q2c](#toc0_)"
      ]
    },
    {
      "cell_type": "markdown",
      "metadata": {
        "id": "ZI88O4MuBPQw"
      },
      "source": [
        "\n",
        "**Meaning of Equivariance**\\\n",
        "In the atomic orbital basis (e.g., p-orbitals), equivariance of a quantum operator $ \\hat{O} $ under E(3) means its matrix representation transforms consistently with spatial rotations. For a rotation $ R \\in SO(3) $, the basis $ \\{|p_x\\rangle, |p_y\\rangle, |p_z\\rangle\\} $ transforms as $ |p_i'\\rangle = U(R) |p_i\\rangle $, where $ U(R) $ is the 3$\\times$3 rotation matrix for $ l = 1 $. The operator matrix changes as:\n",
        "$$ O' = U(R) O U(R)^\\dagger, $$\n",
        "ensuring physical properties (e.g., hopping integrals) remain consistent under coordinate transformations.\n",
        "\n",
        "**Verification of $ O1 $ and $ O2 $**\\\n",
        "Given $ O1 $ and $ O2 $ as p-p interaction matrices with direction vectors $ \\text{vec1} = [-0.0193, 5.3152, 0.0518] $ and $ \\text{vec2} = [0, 0, 1] $, they are equivariant if $ O2 = R O1 R^T $, where $ R $ rotates $ \\text{vec1} $ to $ \\text{vec2} $.\n",
        "\n",
        "- **Formula**:\\\n",
        "  For p-orbitals, $ U(R) = R $, so:\n",
        "  $$ O2 = R O1 R^T. $$\n",
        "\n",
        "- **Steps**:\n",
        "  1. Normalize $ \\text{vec1} $ and $ \\text{vec2} $.\n",
        "  2. Compute $ R $ using the rotation axis (cross product) and angle (dot product).\n",
        "  3. Verify $ O2 \\approx R O1 R^T $."
      ]
    },
    {
      "cell_type": "code",
      "execution_count": null,
      "metadata": {
        "colab": {
          "base_uri": "https://localhost:8080/"
        },
        "id": "vtisL2YiCMMt",
        "outputId": "db9ca761-aa0d-4dc5-a7ca-e86c1530bfcd"
      },
      "outputs": [
        {
          "name": "stdout",
          "output_type": "stream",
          "text": [
            "R * vec1: [ 7.58941521e-19 -1.87350135e-16  1.00000000e+00]\n",
            "vec2: [0. 0. 1.]\n",
            "\n",
            "O2 (expected):\n",
            " [[-0.0188 -0.0006  0.0005]\n",
            " [-0.0006 -0.019  -0.0007]\n",
            " [-0.0023 -0.0005  0.1327]]\n",
            "O2' (computed):\n",
            " [[-1.89943806e-02 -5.88407930e-04 -1.66835486e-04]\n",
            " [-5.88417263e-04 -1.88145280e-02  1.40833210e-03]\n",
            " [ 4.37709938e-05 -1.40703911e-03  1.32678313e-01]]\n",
            "\n",
            "Max difference:\n",
            " 0.0023437709938002346\n"
          ]
        }
      ],
      "source": [
        "# input data\n",
        "O1 = np.array([[1.32661455e-01,   2.88550062e-03, -5.17760229e-04],\n",
        "            [6.94089346e-05, -1.87958878e-02, 5.87849393e-04],\n",
        "            [-7.18132899e-04, 5.75661802e-04, -1.89961633e-02]])\n",
        "vec1 = np.array([-0.0193, 5.3152, 0.0518])\n",
        "\n",
        "O2 = np.array([[-0.0188, -0.0006, 0.0005],\n",
        "               [-0.0006, -0.0190, -0.0007],\n",
        "               [-0.0023, -0.0005, 0.1327]])\n",
        "vec2 = np.array([0., 0., 1.])\n",
        "\n",
        "\n",
        "# norm. vec\n",
        "v1 = vec1 / np.linalg.norm(vec1)\n",
        "v2 = vec2 / np.linalg.norm(vec2)\n",
        "\n",
        "# cal. the rot. mtx. R\n",
        "rot = Rotation.align_vectors([v2], [v1])[0]\n",
        "R = rot.as_matrix()\n",
        "\n",
        "# verify rot\n",
        "print(\"R * vec1:\", R @ v1)\n",
        "print(\"vec2:\", v2)\n",
        "\n",
        "# re-order\n",
        "P = np.array([[0, 0, 1], [1, 0, 0], [0, 1, 0]])\n",
        "O1_adjusted = P @ O1 @ P.T\n",
        "\n",
        "# cal. O2'\n",
        "O2_pred = R @ O1_adjusted @ R.T\n",
        "print(\"\\nO2 (expected):\\n\", O2)\n",
        "print(\"O2' (computed):\\n\", O2_pred)\n",
        "print(\"\\nMax difference:\\n\", np.max(np.abs(O2 - O2_pred)))"
      ]
    },
    {
      "cell_type": "markdown",
      "metadata": {
        "id": "ymGZ-iA2vkRL"
      },
      "source": [
        "---\n",
        "# 3. <a id='toc3_'></a>[Q3: GNN/MPNN](#toc0_)"
      ]
    },
    {
      "cell_type": "markdown",
      "metadata": {
        "id": "pcM-6rnPvkRM"
      },
      "source": [
        "## 3.1. <a id='toc3_1_'></a>[Q3a](#toc0_)"
      ]
    },
    {
      "cell_type": "markdown",
      "metadata": {
        "id": "4szSp74Z0jlV"
      },
      "source": [
        "Basically, at each layer, the GNN/MPNN model will iteratively extract the information from the previous and current layers and execute the following three updating rules, propagating information from local to global scales to update node and edge representations:\n",
        "\n",
        "**Step 1. Message Generating**<a id=\"eq1\"></a>\n",
        "\n",
        "The message $\\mathbf{m}^{ij,L}$ integrates the state of the sending node $j$ and the receiving node $i$, along with the edge information $\\mathbf{e}^{ij,L-1}$ from their relationship at the previous $(L-1)^{\\text{th}}$ layer.\n",
        "$$\n",
        "\\begin{aligned}\n",
        "&\\boxed{\n",
        "  \\mathbf{m}^{ij,L}\n",
        "  \\;=\\;\n",
        "  M_L\n",
        "  \\left(\n",
        "    \\mathbf{n}^{i,L-1},\\,\n",
        "    \\mathbf{n}^{j,L-1},\\,\n",
        "    \\mathbf{e}^{ij,L-1}\\;\\;\n",
        "  \\right)\n",
        "}\\\\\n",
        "&\\text{\n",
        "  $\\mathbf{m}^{ij,L}$: Message vector sent from node $j$ to node $i$ at the $L^{\\text{th}}$ layer.}\\\\\n",
        "&\\text{  \n",
        "  $\\mathbf{M_L}$: Learnable message function with parameters specific to layer $L$}\\\\\n",
        "&\\text{  \n",
        "  $\\mathbf{n}^{i,L-1} \\& \\mathbf{n}^{j,L-1}$: State (or feature) vectors of nodes $i$ and $j$ at the previous $(L-1)^{\\text{th}}$ layer.}\\\\\n",
        "&\\text{  \n",
        "  $\\mathbf{e}^{ij,L-1}$: State (or feature) vector of the edge between nodes $i$ and $j$ at the previous $(L-1)^{\\text{th}}$ layer.}\\\\\n",
        "\\end{aligned}\n",
        "\\tag{1}\n",
        "$$\n",
        "$\\mathbf{M_L}$ typically implemented as a neural network (e.g., MLP).\n",
        "\n",
        "**Step 2. Node Updating**\n",
        "\n",
        "The updated node state $\\mathbf{n}^{i,L}$ is computed by aggregating messages from all neighboring nodes $j$ and combining them with the node's previous state $\\mathbf{n}^{i,L-1}$ .\n",
        "Usually, the operator $U_L$ here is a weighted summation followed by an activation function.\n",
        "$$\n",
        "\\begin{aligned}\n",
        "&\\boxed{\n",
        "  \\mathbf{n}^{i,L}\n",
        "  \\;=\\;\n",
        "  U_L\\!\n",
        "  \\left(\n",
        "    \\mathbf{n}^{i,L-1},\\,\n",
        "    \\sum_{j \\in \\mathcal{N}(i)}\n",
        "    \\mathbf{m}^{ij,L}\\;\\;\n",
        "  \\right)\n",
        "}\\\\\n",
        "&\\text{\n",
        "  $\\mathbf{n}^{i,L}$: Updated state vector of node $i$ at the $L^{\\text{th}}$ layer.}\\\\\n",
        "&\\text{  \n",
        "  $U_L$: Learnable update function for layer $L$, typically a neural network.}\\\\\n",
        "&\\text{  \n",
        "  $\\sum_{j \\in \\mathcal{N}(i)}, \\mathbf{m}^{ij,L}$: Sum of messages from all neighbors $j$ in the neighborhood $\\mathcal{N}(i)$ of node $i$.}\\\\\n",
        "\\end{aligned}\n",
        "$$\n",
        "\n",
        "**Step 3. Edge Updating**\n",
        "\n",
        "The current edge state $\\mathbf{e}^{ij,L}$ of the edge between $i$ and $j$, $(i,j)$, is updated based on the current states of the connected nodes $i$ and nodes $j$ and their previous edge state.\n",
        "$$\n",
        "\\begin{aligned}\n",
        "&\\boxed{\n",
        "  \\mathbf{e}^{ij,L}\n",
        "  \\;=\\;\n",
        "  \\mathcal{N}_L\n",
        "  \\left(\n",
        "      \\mathbf{n}^{i,L},\\,\n",
        "      \\mathbf{n}^{j,L},\\,\n",
        "      \\mathbf{e}^{ij,L-1}\\,\\,\n",
        "  \\right)\n",
        "}\\\\\n",
        "&\\text{\n",
        "  $\\mathbf{e}^{ij,L}$: Updated state vector of the edge between nodes $i$ and $j$ at the $L^{\\text{th}}$ layer.}\\\\\n",
        "&\\text{\n",
        "  $\\mathcal{N}_L$: Learnable edge update function for layer $L$, typically a neural network.}\\\\\n",
        "&\\text{\n",
        "  $\\mathbf{n}^{i,L} \\,\\&\\, \\mathbf{n}^{j,L}$: Current state vectors of nodes $i$ and $j$.}\\\\\n",
        "&\\text{\n",
        "  $\\mathbf{e}^{ij,L-1}$: Previous state vector of the edge at the $(L-1)^{\\text{th}}$ layer.}\\\\\n",
        "\\end{aligned}\n",
        "$$"
      ]
    },
    {
      "cell_type": "markdown",
      "metadata": {
        "id": "zoEmO81avkRM"
      },
      "source": [
        "---\n",
        "## 3.2. <a id='toc3_2_'></a>[Q3b](#toc0_)"
      ]
    },
    {
      "cell_type": "markdown",
      "metadata": {
        "id": "akHZvvCWjYff"
      },
      "source": [
        "In the classical GNN/MPNN model, as the depth of the layers increases, each node gradually aggregates (extracts and stores) information from an expanding set of nodes, potentially reaching all others in the graph through multi-hop propagation, *i.e.*, losing its locality.\n",
        "\n",
        "However, for a machine learning model like [DeePTB](https://github.com/deepmodeling/DeePTB), to better preserve its locality and achieve a strictly local receptive field, a new parameter $\\mathbf{V}$ has been introduced into the previous formula to modulate the scope of information propagation.\n",
        "\n",
        "The vertex feature associated with the edge between nodes $i$ and $j$ at layer $L$, *i.e.*, $\\mathbf{V}^{ij,L}$, is iteratively and strictly updated using information aggregated from the master node $i$ itself via:\n",
        "$$\n",
        "\\mathbf{V}^{ij,L}\n",
        "=\n",
        "\\mathcal{V}_L\n",
        "\\left(\n",
        "  \\mathbf{n}^{i,L-1}\\;, \\;\n",
        "  \\mathbf{V}^{ij,L-1} \\;\\;\n",
        "\\right),\n",
        "$$\n",
        "and this information is then passed into $\\mathbf{m}^{ij,L}$ through:\n",
        "$$\n",
        "\\mathbf{m}^{ij,L}\n",
        "=\n",
        "M_L\n",
        "\\left(\n",
        "  \\mathbf{n}^{i,L-1}\\;,\\;\n",
        "  \\mathbf{V}^{ij,L}\\;\\;\n",
        "\\right)\n",
        "$$\n",
        "rather than incorporating the node state of its neighboring node $j$ at the previous layer ($\\mathbf{n}^{j,L-1}\\,$ ), as done in eq.[1](#eq1).\n",
        "\n",
        "This means, unlike the classical GNN/MPNN model, the information stored in node $i$ no longer contains contributions aggregated from its neighboring nodes $j$ and their connected edge $(i,j)$, unless $\\mathbf{V}^{ij,L=0} \\,\\,$  contains the neighboring nodes' feature information.\n",
        "\n",
        "Instead, this information is collected in the connected edge state $\\mathbf{e}^{ij,L}$ via\n",
        "$$\n",
        "\\mathbf{e}^{ij,L}\n",
        "\\;=\\;\n",
        "\\mathcal{N}_L\n",
        "\\left(\n",
        "  \\mathbf{n}^{i,L},\\,\n",
        "  \\mathbf{V}^{ij,L},\\,\n",
        "  \\mathbf{n}^{j,L},\\,\n",
        "  \\mathbf{e}^{ij,L-1}\\;\\;\n",
        "\\right).\n",
        "$$\n",
        "\n",
        "Therefore, the most significant difference between the classical GNN/MPNN and the modified version used in DeePTB lies in the introduction of the $\\mathbf{V}^{ij,L}$ term, which enforces the accompanying locality."
      ]
    },
    {
      "cell_type": "markdown",
      "metadata": {
        "id": "Iw9pHjyRvkRN"
      },
      "source": [
        "---\n",
        "## 3.3. <a id='toc3_3_'></a>[Q3c](#toc0_)"
      ]
    },
    {
      "cell_type": "markdown",
      "metadata": {
        "id": "RkS6MEzVASNJ"
      },
      "source": [
        "**1. Assumptions**\n",
        "\n",
        "For simplicity we assume $\\mathbf{n}^{i,L}$, $\\mathbf{V}^{ij,L}$, $\\mathbf{m}^{ij,L}$, and $\\mathbf{e}^{ij,L}$ are all scalars.\n",
        "\n",
        "Furthermore, we then use simple linear transformations for $\\mathcal{V}_L$, $M_L$, $U_L$, and $\\mathcal{N}_L$.\n",
        "\n",
        "*e.g.*:\n",
        "$$\n",
        "\\boxed{\n",
        "\\begin{aligned}\n",
        "\\mathcal{V}_L(a, b) &= w_v a + b\\\\\n",
        "M_L(a, b) &= w_m a + b\\\\\n",
        "U_L(a, b) &= w_u a + b\\\\\n",
        "\\mathcal{N}_L(a, b, c, d) &= w_e (a + b + c + d)\\\\\n",
        "\\end{aligned}\n",
        "}\n",
        "$$\n",
        "\n",
        "Here, $w_v, w_m, w_u, w_e$ are learnable weights initialized as 0.5, 0.5, 0.5, and 0.2 respectively.\n",
        "\n",
        "**2. Layer Construction**\n",
        "\n",
        "A honeycomb lattice is a two-dimensional hexagonal grid, where each node has $3$ nearest neighbors.\n",
        "\n",
        "We build a small lattice and use NetworkX to generate the lattice structure, relabeling nodes with consecutive integers for easier indexing.\n",
        "\n",
        "**3. Code Algorithm**\n",
        "\n",
        "1. **Lattice Generation**\n",
        "   - Use `networkx.hexagonal_lattice_graph` to create a 4×4 honeycomb lattice, where each node has 3 nearest neighbors.\n",
        "   - Nodes are automatically labeled by NetworkX as tuples (e.g., `(i, j, s)`), then remapped to consecutive integers (0 to 47) using a dictionary for compatibility with PyTorch indexing.\n",
        "\n",
        "2. **Update Formula Implementation**\n",
        "   - Implement a `DeePTBLayer` class to update $\\mathbf{V}^{ij,L}$, $\\mathbf{m}^{ij,L}$, $\\mathbf{n}^{i,L}$, and $\\mathbf{e}^{ij,L}$.\n",
        "   - All features are scalars; $\\mathcal{V}_L$, $M_L$, $U_L$, and $\\mathcal{N}_L$ are simplified to linear transformations with learnable weights.\n",
        "   - The forward pass iterates over edges to compute vertex features, messages, node updates, and edge updates.\n",
        "\n",
        "3. **Locality Test & Visualization**\n",
        "   - Pick a center node $i$ (e.g., 15) and a distant node $k$ (e.g., 0) with distance > 1, ensuring $k$ is not within $i$'s nearest neighborhood.\n",
        "   - **$1_{\\text{st}}$ run**: Initialize every node feature to 1.\n",
        "   - **$2_{\\text{nd}}$ run**: Set the distant node $k$'s initial feature to 10.\n",
        "   - Compare the final feature of the center node $i$ in both runs.\n",
        "   - Since DeePTB's update formula (single-layer) depends only on nearest neighbors, changes in the distant node $k$ should not affect the center node $i$. This verifies locality.\n",
        "   - Visualize the lattice using Matplotlib after first run and second run, highlighting the center node (red), distant node (blue), center node's neighbors (green), and other nodes (gray) with node labels.\n"
      ]
    },
    {
      "cell_type": "code",
      "execution_count": null,
      "metadata": {
        "id": "h2GFFxyAppNS"
      },
      "outputs": [],
      "source": [
        "def generate_honeycomb_lattice(rows, cols):\n",
        "    G = nx.hexagonal_lattice_graph(rows, cols, periodic=False)\n",
        "    mapping = {node: idx for idx, node in enumerate(G.nodes)}\n",
        "    G = nx.relabel_nodes(G, mapping)\n",
        "    return G\n",
        "\n",
        "def visualize_lattice(G,\n",
        "                      center_node: int,\n",
        "                      far_node: int,\n",
        "                      node_features_base,\n",
        "                      edge_features_base,\n",
        "                      node_features_modified,\n",
        "                      edge_features_modified, pos=None):\n",
        "    # Calculate node positions if not provided\n",
        "    if pos is None:\n",
        "        # Use spring_layout with adjusted parameters for better spreading\n",
        "        pos = nx.spring_layout(\n",
        "            G,\n",
        "            k=1.5 / np.sqrt(len(G.nodes)),  # Smaller k for more repulsion\n",
        "            iterations=200,                 # More iterations for better optimization\n",
        "            scale=2.0,                      # Scale up the layout\n",
        "            # Optionally, provide an initial geometric position for honeycomb\n",
        "            # pos=initial_honeycomb_positions(G, rows=4, cols=4)\n",
        "        )\n",
        "\n",
        "    # Set node colors\n",
        "    node_colors = ['lightgray'] * len(G.nodes)\n",
        "    node_colors[center_node] = 'red'\n",
        "    node_colors[far_node] = 'blue'\n",
        "    for neighbor in G.neighbors(center_node):\n",
        "        node_colors[neighbor] = 'green'\n",
        "\n",
        "    # Extract node coordinates\n",
        "    x_nodes = [pos[node][0] for node in G.nodes]\n",
        "    y_nodes = [pos[node][1] for node in G.nodes]\n",
        "\n",
        "    # Edge coordinates and feature values\n",
        "    edge_index_map = {edge: idx for idx, edge in enumerate(G.edges)}\n",
        "    x_edges, y_edges = [], []\n",
        "    edge_hovertexts_base = []\n",
        "    edge_hovertexts_modified = []\n",
        "    for edge in G.edges:\n",
        "        i, j = edge\n",
        "        x0, y0 = pos[i]\n",
        "        x1, y1 = pos[j]\n",
        "        x_edges.extend([x0, x1, None])\n",
        "        y_edges.extend([y0, y1, None])\n",
        "        edge_idx = edge_index_map[edge]\n",
        "        edge_hovertexts_base.append(f\"Edge ({i}, {j}): {edge_features_base[edge_idx]:.4f}\")\n",
        "        edge_hovertexts_modified.append(f\"Edge ({i}, {j}): {edge_features_modified[edge_idx]:.4f}\")\n",
        "\n",
        "    # Node labels and feature values\n",
        "    node_labels_base = [f\"Node {i}<br>n_i: {node_features_base[i]:.4f}\" for i in G.nodes]\n",
        "    node_labels_modified = [f\"Node {i}<br>n_i: {node_features_modified[i]:.4f}\" for i in G.nodes]\n",
        "\n",
        "    # Create subplots\n",
        "    fig = make_subplots(rows=1, cols=2, subplot_titles=(\"After First Run\", \"After Second Run\"))\n",
        "\n",
        "    # Subplot 1: First run\n",
        "    fig.add_trace(go.Scatter(\n",
        "        x=x_edges, y=y_edges,\n",
        "        mode='lines',\n",
        "        line=dict(color='gray', width=2),\n",
        "        hoverinfo='text',\n",
        "        hovertext=edge_hovertexts_base,\n",
        "        showlegend=False\n",
        "    ), row=1, col=1)\n",
        "\n",
        "    fig.add_trace(go.Scatter(\n",
        "        x=x_nodes, y=y_nodes,\n",
        "        mode='markers+text',\n",
        "        marker=dict(size=10, color=node_colors),\n",
        "        text=[str(i) for i in G.nodes],\n",
        "        textposition=\"top center\",\n",
        "        hoverinfo='text',\n",
        "        hovertext=node_labels_base,\n",
        "        showlegend=False\n",
        "    ), row=1, col=1)\n",
        "\n",
        "    # Subplot 2: Second run\n",
        "    fig.add_trace(go.Scatter(\n",
        "        x=x_edges, y=y_edges,\n",
        "        mode='lines',\n",
        "        line=dict(color='gray', width=2),\n",
        "        hoverinfo='text',\n",
        "        hovertext=edge_hovertexts_modified,\n",
        "        showlegend=False\n",
        "    ), row=1, col=2)\n",
        "\n",
        "    fig.add_trace(go.Scatter(\n",
        "        x=x_nodes, y=y_nodes,\n",
        "        mode='markers+text',\n",
        "        marker=dict(size=10, color=node_colors),\n",
        "        text=[str(i) for i in G.nodes],\n",
        "        textposition=\"top center\",\n",
        "        hoverinfo='text',\n",
        "        hovertext=node_labels_modified,\n",
        "        showlegend=False\n",
        "    ), row=1, col=2)\n",
        "\n",
        "    # Update layout\n",
        "    fig.update_layout(\n",
        "        title_text=\"Honeycomb Lattice: Center Node (Red), Far Node (Blue), Neighbors (Green)\",\n",
        "        width=1200,\n",
        "        height=600,\n",
        "        showlegend=False\n",
        "    )\n",
        "    fig.update_xaxes(showgrid=False, zeroline=False, showticklabels=False)\n",
        "    fig.update_yaxes(showgrid=False, zeroline=False, showticklabels=False)\n",
        "\n",
        "    fig.show()\n",
        "\n",
        "def initial_honeycomb_positions(G, rows, cols):\n",
        "    pos = {}\n",
        "    idx = 0\n",
        "    for i in range(rows):\n",
        "        for j in range(cols):\n",
        "            # Two nodes per unit cell in hexagonal lattice (A and B sublattices)\n",
        "            # A sublattice\n",
        "            x_a = j * 3.0  # Adjust spacing\n",
        "            y_a = i * np.sqrt(3) * 1.5\n",
        "            # B sublattice (offset)\n",
        "            x_b = x_a + 1.5\n",
        "            y_b = y_a + np.sqrt(3) * 0.5\n",
        "            # Map nodes based on index\n",
        "            pos[idx] = (x_a, y_a)\n",
        "            idx += 1\n",
        "            if idx < len(G.nodes):\n",
        "                pos[idx] = (x_b, y_b)\n",
        "                idx += 1\n",
        "    return pos\n",
        "\n",
        "class DeePTBLayer(nn.Module):\n",
        "    def __init__(self):\n",
        "        super(DeePTBLayer, self).__init__()\n",
        "        self.w_v = nn.Parameter(torch.tensor(0.5))\n",
        "        self.w_m = nn.Parameter(torch.tensor(0.5))\n",
        "        self.w_u = nn.Parameter(torch.tensor(0.5))\n",
        "        self.w_e = nn.Parameter(torch.tensor(0.2))\n",
        "\n",
        "    def forward(self, G, node_features, vertex_features, edge_features):\n",
        "        num_nodes = len(G.nodes)\n",
        "        num_edges = len(G.edges)\n",
        "        new_node_features = torch.zeros(num_nodes)\n",
        "        new_vertex_features = torch.zeros(num_edges)\n",
        "        new_edge_features = torch.zeros(num_edges)\n",
        "\n",
        "        edge_index_map = {edge: idx for idx, edge in enumerate(G.edges)}\n",
        "\n",
        "        for edge in G.edges:\n",
        "            i, j = edge\n",
        "            edge_idx = edge_index_map[edge]\n",
        "            new_vertex_features[edge_idx] = self.w_v * node_features[i] + vertex_features[edge_idx]\n",
        "\n",
        "        messages = torch.zeros(num_nodes, num_nodes)\n",
        "        for edge in G.edges:\n",
        "            i, j = edge\n",
        "            edge_idx = edge_index_map[edge]\n",
        "            messages[i, j] = self.w_m * node_features[i] + new_vertex_features[edge_idx]\n",
        "\n",
        "        for i in G.nodes:\n",
        "            message_sum = sum(messages[i, j] for j in G.neighbors(i) if (i, j) in G.edges)\n",
        "            new_node_features[i] = self.w_u * node_features[i] + message_sum\n",
        "\n",
        "        for edge in G.edges:\n",
        "            i, j = edge\n",
        "            edge_idx = edge_index_map[edge]\n",
        "            new_edge_features[edge_idx] = self.w_e * (\n",
        "                new_node_features[i] + new_vertex_features[edge_idx] +\n",
        "                new_node_features[j] + edge_features[edge_idx]\n",
        "            )\n",
        "\n",
        "        return new_node_features, new_vertex_features, new_edge_features\n",
        "\n",
        "def test_locality(center_node: int, far_node: int):\n",
        "    G = generate_honeycomb_lattice(4, 4)\n",
        "    num_nodes = len(G.nodes)\n",
        "    num_edges = len(G.edges)\n",
        "\n",
        "    print(f\"Nodes in graph: {list(G.nodes)}\")\n",
        "    print(f\"Number of nodes: {num_nodes}, Number of edges: {num_edges}\")\n",
        "\n",
        "    node_features = torch.ones(num_nodes)\n",
        "    vertex_features = torch.zeros(num_edges)\n",
        "    edge_features = torch.zeros(num_edges)\n",
        "\n",
        "    neighbors = list(G.neighbors(center_node))\n",
        "    print(f\"Neighbors of center node {center_node}: {neighbors}\")\n",
        "    assert far_node not in neighbors, f\"Far node {far_node} is a neighbor of {center_node}!\"\n",
        "\n",
        "    num_layers = 1\n",
        "    model = DeePTBLayer()\n",
        "\n",
        "    pos = nx.spring_layout(G, k=1.5/np.sqrt(len(G.nodes)), iterations=200, scale=2.0)\n",
        "\n",
        "    node_features_base = node_features.clone()\n",
        "    vertex_features_base = vertex_features.clone()\n",
        "    edge_features_base = edge_features.clone()\n",
        "    for _ in range(num_layers):\n",
        "        node_features_base, vertex_features_base, edge_features_base = model(\n",
        "            G, node_features_base, vertex_features_base, edge_features_base\n",
        "        )\n",
        "\n",
        "    node_features_modified = node_features.clone()\n",
        "    node_features_modified[far_node] = 10.0\n",
        "    vertex_features_modified = vertex_features.clone()\n",
        "    edge_features_modified = edge_features.clone()\n",
        "    for _ in range(num_layers):\n",
        "        node_features_modified, vertex_features_modified, edge_features_modified = model(\n",
        "            G, node_features_modified, vertex_features_modified, edge_features_modified\n",
        "        )\n",
        "\n",
        "    visualize_lattice(G, center_node, far_node, node_features_base, edge_features_base,\n",
        "                     node_features_modified, edge_features_modified, pos=pos)\n",
        "\n",
        "    print(f\"Center node {center_node} feature (base): {node_features_base[center_node]:.4f}\")\n",
        "    print(f\"Center node {center_node} feature (modified): {node_features_modified[center_node]:.4f}\")\n",
        "    assert torch.allclose(node_features_base[center_node], node_features_modified[center_node], atol=1e-5), \\\n",
        "        \"Center node feature changed, locality not preserved!\"\n",
        "\n",
        "    print(\"Locality test passed: Center node feature is invariant to changes outside the receptive field.\")"
      ]
    },
    {
      "cell_type": "code",
      "execution_count": null,
      "metadata": {
        "colab": {
          "base_uri": "https://localhost:8080/",
          "height": 769
        },
        "id": "pX0RgyVNK8Sn",
        "outputId": "3e2ee5d5-eeb7-4647-ffaa-00a67c4e398f"
      },
      "outputs": [
        {
          "name": "stdout",
          "output_type": "stream",
          "text": [
            "Nodes in graph: [0, 1, 2, 3, 4, 5, 6, 7, 8, 9, 10, 11, 12, 13, 14, 15, 16, 17, 18, 19, 20, 21, 22, 23, 24, 25, 26, 27, 28, 29, 30, 31, 32, 33, 34, 35, 36, 37, 38, 39, 40, 41, 42, 43, 44, 45, 46, 47]\n",
            "Number of nodes: 48, Number of edges: 63\n",
            "Neighbors of center node 23: [22, 24, 33]\n"
          ]
        },
        {
          "data": {
            "application/vnd.plotly.v1+json": {
              "config": {
                "plotlyServerURL": "https://plot.ly"
              },
              "data": [
                {
                  "hoverinfo": "text",
                  "hovertext": [
                    "Edge (0, 1): 0.9000",
                    "Edge (0, 9): 0.9000",
                    "Edge (1, 2): 0.9000",
                    "Edge (2, 3): 0.9000",
                    "Edge (2, 11): 0.9000",
                    "Edge (3, 4): 0.9000",
                    "Edge (4, 5): 0.9000",
                    "Edge (4, 13): 0.9000",
                    "Edge (5, 6): 0.9000",
                    "Edge (6, 7): 0.9000",
                    "Edge (6, 15): 0.9000",
                    "Edge (7, 8): 0.7000",
                    "Edge (8, 17): 0.7000",
                    "Edge (9, 10): 0.9000",
                    "Edge (10, 11): 0.9000",
                    "Edge (10, 20): 0.9000",
                    "Edge (11, 12): 0.9000",
                    "Edge (12, 13): 0.9000",
                    "Edge (12, 22): 0.9000",
                    "Edge (13, 14): 0.9000",
                    "Edge (14, 15): 0.9000",
                    "Edge (14, 24): 0.9000",
                    "Edge (15, 16): 0.9000",
                    "Edge (16, 17): 0.9000",
                    "Edge (16, 26): 0.9000",
                    "Edge (17, 18): 0.7000",
                    "Edge (18, 28): 0.5000",
                    "Edge (19, 20): 0.9000",
                    "Edge (19, 29): 0.9000",
                    "Edge (20, 21): 0.9000",
                    "Edge (21, 22): 0.9000",
                    "Edge (21, 31): 0.9000",
                    "Edge (22, 23): 0.9000",
                    "Edge (23, 24): 0.9000",
                    "Edge (23, 33): 0.9000",
                    "Edge (24, 25): 0.9000",
                    "Edge (25, 26): 0.9000",
                    "Edge (25, 35): 0.9000",
                    "Edge (26, 27): 0.9000",
                    "Edge (27, 28): 0.7000",
                    "Edge (27, 37): 0.9000",
                    "Edge (29, 30): 0.9000",
                    "Edge (30, 31): 0.9000",
                    "Edge (30, 39): 0.9000",
                    "Edge (31, 32): 0.9000",
                    "Edge (32, 33): 0.9000",
                    "Edge (32, 41): 0.9000",
                    "Edge (33, 34): 0.9000",
                    "Edge (34, 35): 0.9000",
                    "Edge (34, 43): 0.9000",
                    "Edge (35, 36): 0.9000",
                    "Edge (36, 37): 0.9000",
                    "Edge (36, 45): 0.9000",
                    "Edge (37, 38): 0.7000",
                    "Edge (38, 47): 0.5000",
                    "Edge (39, 40): 0.7000",
                    "Edge (40, 41): 0.7000",
                    "Edge (41, 42): 0.7000",
                    "Edge (42, 43): 0.7000",
                    "Edge (43, 44): 0.7000",
                    "Edge (44, 45): 0.7000",
                    "Edge (45, 46): 0.7000",
                    "Edge (46, 47): 0.5000"
                  ],
                  "line": {
                    "color": "gray",
                    "width": 2
                  },
                  "mode": "lines",
                  "showlegend": false,
                  "type": "scatter",
                  "x": [
                    -1.7358434020817661,
                    -1.8241418526614221,
                    null,
                    -1.7358434020817661,
                    -1.3694705679171484,
                    null,
                    -1.8241418526614221,
                    -1.6225906069793121,
                    null,
                    -1.6225906069793121,
                    -1.658741228046601,
                    null,
                    -1.6225906069793121,
                    -1.1566816239568498,
                    null,
                    -1.658741228046601,
                    -1.4689623930547897,
                    null,
                    -1.4689623930547897,
                    -1.4962057029462248,
                    null,
                    -1.4689623930547897,
                    -0.9935100146628741,
                    null,
                    -1.4962057029462248,
                    -1.3017323885937315,
                    null,
                    -1.3017323885937315,
                    -1.3400129950794843,
                    null,
                    -1.3017323885937315,
                    -0.8298113357912744,
                    null,
                    -1.3400129950794843,
                    -1.1134628373917932,
                    null,
                    -1.1134628373917932,
                    -0.6942577875419212,
                    null,
                    -1.3694705679171484,
                    -0.9664604629191816,
                    null,
                    -0.9664604629191816,
                    -1.1566816239568498,
                    null,
                    -0.9664604629191816,
                    -0.3975291401579164,
                    null,
                    -1.1566816239568498,
                    -0.8325554353354067,
                    null,
                    -0.8325554353354067,
                    -0.9935100146628741,
                    null,
                    -0.8325554353354067,
                    -0.26508213379150836,
                    null,
                    -0.9935100146628741,
                    -0.6693811104380445,
                    null,
                    -0.6693811104380445,
                    -0.8298113357912744,
                    null,
                    -0.6693811104380445,
                    -0.0985639384008502,
                    null,
                    -0.8298113357912744,
                    -0.5013953881210865,
                    null,
                    -0.5013953881210865,
                    -0.6942577875419212,
                    null,
                    -0.5013953881210865,
                    0.0517672570497159,
                    null,
                    -0.6942577875419212,
                    -0.3693790841674624,
                    null,
                    -0.3693790841674624,
                    0.044103818381339616,
                    null,
                    -0.03964350326972685,
                    -0.3975291401579164,
                    null,
                    -0.03964350326972685,
                    0.373969281148042,
                    null,
                    -0.3975291401579164,
                    -0.053338537757976576,
                    null,
                    -0.053338537757976576,
                    -0.26508213379150836,
                    null,
                    -0.053338537757976576,
                    0.4990504092756148,
                    null,
                    -0.26508213379150836,
                    0.09108317572949744,
                    null,
                    0.09108317572949744,
                    -0.0985639384008502,
                    null,
                    0.09108317572949744,
                    0.6620603595308336,
                    null,
                    -0.0985639384008502,
                    0.2610033838921029,
                    null,
                    0.2610033838921029,
                    0.0517672570497159,
                    null,
                    0.2610033838921029,
                    0.8287069800923231,
                    null,
                    0.0517672570497159,
                    0.4018914501825534,
                    null,
                    0.4018914501825534,
                    0.044103818381339616,
                    null,
                    0.4018914501825534,
                    0.9722085341031539,
                    null,
                    0.373969281148042,
                    0.6956605940298398,
                    null,
                    0.6956605940298398,
                    0.4990504092756148,
                    null,
                    0.6956605940298398,
                    1.114309654993501,
                    null,
                    0.4990504092756148,
                    0.8243721093587542,
                    null,
                    0.8243721093587542,
                    0.6620603595308336,
                    null,
                    0.8243721093587542,
                    1.2963763034150513,
                    null,
                    0.6620603595308336,
                    0.9877102263158144,
                    null,
                    0.9877102263158144,
                    0.8287069800923231,
                    null,
                    0.9877102263158144,
                    1.463505410297089,
                    null,
                    0.8287069800923231,
                    1.1588302406341642,
                    null,
                    1.1588302406341642,
                    0.9722085341031539,
                    null,
                    1.1588302406341642,
                    1.62607144463741,
                    null,
                    0.9722085341031539,
                    1.3789336987599117,
                    null,
                    1.3789336987599117,
                    1.7472519060964888,
                    null,
                    1.114309654993501,
                    1.338081255152807,
                    null,
                    1.338081255152807,
                    1.2963763034150513,
                    null,
                    1.2963763034150513,
                    1.490714948533087,
                    null,
                    1.490714948533087,
                    1.463505410297089,
                    null,
                    1.463505410297089,
                    1.6576281900796461,
                    null,
                    1.6576281900796461,
                    1.62607144463741,
                    null,
                    1.62607144463741,
                    1.8334628393756076,
                    null,
                    1.8334628393756076,
                    1.7472519060964888,
                    null
                  ],
                  "xaxis": "x",
                  "y": [
                    1.9097227105857233,
                    1.572064562654731,
                    null,
                    1.9097227105857233,
                    1.919562839941531,
                    null,
                    1.572064562654731,
                    1.1714300798554855,
                    null,
                    1.1714300798554855,
                    0.676730592670819,
                    null,
                    1.1714300798554855,
                    1.2166319378091548,
                    null,
                    0.676730592670819,
                    0.18238866847978388,
                    null,
                    0.18238866847978388,
                    -0.34149556709214096,
                    null,
                    0.18238866847978388,
                    0.20799188424275952,
                    null,
                    -0.34149556709214096,
                    -0.8255267844857839,
                    null,
                    -0.8255267844857839,
                    -1.2836464394278848,
                    null,
                    -0.8255267844857839,
                    -0.829606642707469,
                    null,
                    -1.2836464394278848,
                    -1.6241794640658753,
                    null,
                    -1.6241794640658753,
                    -1.7101676553853027,
                    null,
                    1.919562839941531,
                    1.6758773459425984,
                    null,
                    1.6758773459425984,
                    1.2166319378091548,
                    null,
                    1.6758773459425984,
                    1.6984213835983837,
                    null,
                    1.2166319378091548,
                    0.7525284215980033,
                    null,
                    0.7525284215980033,
                    0.20799188424275952,
                    null,
                    0.7525284215980033,
                    0.7744188379946791,
                    null,
                    0.20799188424275952,
                    -0.2959918002598438,
                    null,
                    -0.2959918002598438,
                    -0.829606642707469,
                    null,
                    -0.2959918002598438,
                    -0.2811940124319863,
                    null,
                    -0.829606642707469,
                    -1.2885835313113743,
                    null,
                    -1.2885835313113743,
                    -1.7101676553853027,
                    null,
                    -1.2885835313113743,
                    -1.2904703570132732,
                    null,
                    -1.7101676553853027,
                    -2,
                    null,
                    -2,
                    -1.9886863158558652,
                    null,
                    1.987919677264935,
                    1.6984213835983837,
                    null,
                    1.987919677264935,
                    1.9977289239008542,
                    null,
                    1.6984213835983837,
                    1.2873016388104421,
                    null,
                    1.2873016388104421,
                    0.7744188379946791,
                    null,
                    1.2873016388104421,
                    1.2847149377394804,
                    null,
                    0.7744188379946791,
                    0.27576145786995526,
                    null,
                    0.27576145786995526,
                    -0.2811940124319863,
                    null,
                    0.27576145786995526,
                    0.2917148152666882,
                    null,
                    -0.2811940124319863,
                    -0.7781130238366314,
                    null,
                    -0.7781130238366314,
                    -1.2904703570132732,
                    null,
                    -0.7781130238366314,
                    -0.7532251514381707,
                    null,
                    -1.2904703570132732,
                    -1.6980955149363013,
                    null,
                    -1.6980955149363013,
                    -1.9886863158558652,
                    null,
                    -1.6980955149363013,
                    -1.672054691855307,
                    null,
                    1.9977289239008542,
                    1.7057500469836147,
                    null,
                    1.7057500469836147,
                    1.2847149377394804,
                    null,
                    1.7057500469836147,
                    1.6199505594646793,
                    null,
                    1.2847149377394804,
                    0.825026619827593,
                    null,
                    0.825026619827593,
                    0.2917148152666882,
                    null,
                    0.825026619827593,
                    0.8221357941321809,
                    null,
                    0.2917148152666882,
                    -0.209446874868128,
                    null,
                    -0.209446874868128,
                    -0.7532251514381707,
                    null,
                    -0.209446874868128,
                    -0.18148936038211125,
                    null,
                    -0.7532251514381707,
                    -1.2127825851835696,
                    null,
                    -1.2127825851835696,
                    -1.672054691855307,
                    null,
                    -1.2127825851835696,
                    -1.1655731187199907,
                    null,
                    -1.672054691855307,
                    -1.9105925521811087,
                    null,
                    -1.9105925521811087,
                    -1.8998109708667508,
                    null,
                    1.6199505594646793,
                    1.2791079605202227,
                    null,
                    1.2791079605202227,
                    0.8221357941321809,
                    null,
                    0.8221357941321809,
                    0.3410621203169156,
                    null,
                    0.3410621203169156,
                    -0.18148936038211125,
                    null,
                    -0.18148936038211125,
                    -0.6722107359682236,
                    null,
                    -0.6722107359682236,
                    -1.1655731187199907,
                    null,
                    -1.1655731187199907,
                    -1.5630006671981227,
                    null,
                    -1.5630006671981227,
                    -1.8998109708667508,
                    null
                  ],
                  "yaxis": "y"
                },
                {
                  "hoverinfo": "text",
                  "hovertext": [
                    "Node 0<br>n_i: 2.5000",
                    "Node 1<br>n_i: 1.5000",
                    "Node 2<br>n_i: 2.5000",
                    "Node 3<br>n_i: 1.5000",
                    "Node 4<br>n_i: 2.5000",
                    "Node 5<br>n_i: 1.5000",
                    "Node 6<br>n_i: 2.5000",
                    "Node 7<br>n_i: 1.5000",
                    "Node 8<br>n_i: 1.5000",
                    "Node 9<br>n_i: 1.5000",
                    "Node 10<br>n_i: 2.5000",
                    "Node 11<br>n_i: 1.5000",
                    "Node 12<br>n_i: 2.5000",
                    "Node 13<br>n_i: 1.5000",
                    "Node 14<br>n_i: 2.5000",
                    "Node 15<br>n_i: 1.5000",
                    "Node 16<br>n_i: 2.5000",
                    "Node 17<br>n_i: 1.5000",
                    "Node 18<br>n_i: 1.5000",
                    "Node 19<br>n_i: 2.5000",
                    "Node 20<br>n_i: 1.5000",
                    "Node 21<br>n_i: 2.5000",
                    "Node 22<br>n_i: 1.5000",
                    "Node 23<br>n_i: 2.5000",
                    "Node 24<br>n_i: 1.5000",
                    "Node 25<br>n_i: 2.5000",
                    "Node 26<br>n_i: 1.5000",
                    "Node 27<br>n_i: 2.5000",
                    "Node 28<br>n_i: 0.5000",
                    "Node 29<br>n_i: 1.5000",
                    "Node 30<br>n_i: 2.5000",
                    "Node 31<br>n_i: 1.5000",
                    "Node 32<br>n_i: 2.5000",
                    "Node 33<br>n_i: 1.5000",
                    "Node 34<br>n_i: 2.5000",
                    "Node 35<br>n_i: 1.5000",
                    "Node 36<br>n_i: 2.5000",
                    "Node 37<br>n_i: 1.5000",
                    "Node 38<br>n_i: 1.5000",
                    "Node 39<br>n_i: 1.5000",
                    "Node 40<br>n_i: 1.5000",
                    "Node 41<br>n_i: 1.5000",
                    "Node 42<br>n_i: 1.5000",
                    "Node 43<br>n_i: 1.5000",
                    "Node 44<br>n_i: 1.5000",
                    "Node 45<br>n_i: 1.5000",
                    "Node 46<br>n_i: 1.5000",
                    "Node 47<br>n_i: 0.5000"
                  ],
                  "marker": {
                    "color": [
                      "lightgray",
                      "lightgray",
                      "lightgray",
                      "lightgray",
                      "lightgray",
                      "lightgray",
                      "lightgray",
                      "lightgray",
                      "lightgray",
                      "lightgray",
                      "lightgray",
                      "lightgray",
                      "lightgray",
                      "blue",
                      "lightgray",
                      "lightgray",
                      "lightgray",
                      "lightgray",
                      "lightgray",
                      "lightgray",
                      "lightgray",
                      "lightgray",
                      "green",
                      "red",
                      "green",
                      "lightgray",
                      "lightgray",
                      "lightgray",
                      "lightgray",
                      "lightgray",
                      "lightgray",
                      "lightgray",
                      "lightgray",
                      "green",
                      "lightgray",
                      "lightgray",
                      "lightgray",
                      "lightgray",
                      "lightgray",
                      "lightgray",
                      "lightgray",
                      "lightgray",
                      "lightgray",
                      "lightgray",
                      "lightgray",
                      "lightgray",
                      "lightgray",
                      "lightgray"
                    ],
                    "size": 10
                  },
                  "mode": "markers+text",
                  "showlegend": false,
                  "text": [
                    "0",
                    "1",
                    "2",
                    "3",
                    "4",
                    "5",
                    "6",
                    "7",
                    "8",
                    "9",
                    "10",
                    "11",
                    "12",
                    "13",
                    "14",
                    "15",
                    "16",
                    "17",
                    "18",
                    "19",
                    "20",
                    "21",
                    "22",
                    "23",
                    "24",
                    "25",
                    "26",
                    "27",
                    "28",
                    "29",
                    "30",
                    "31",
                    "32",
                    "33",
                    "34",
                    "35",
                    "36",
                    "37",
                    "38",
                    "39",
                    "40",
                    "41",
                    "42",
                    "43",
                    "44",
                    "45",
                    "46",
                    "47"
                  ],
                  "textposition": "top center",
                  "type": "scatter",
                  "x": [
                    -1.7358434020817661,
                    -1.8241418526614221,
                    -1.6225906069793121,
                    -1.658741228046601,
                    -1.4689623930547897,
                    -1.4962057029462248,
                    -1.3017323885937315,
                    -1.3400129950794843,
                    -1.1134628373917932,
                    -1.3694705679171484,
                    -0.9664604629191816,
                    -1.1566816239568498,
                    -0.8325554353354067,
                    -0.9935100146628741,
                    -0.6693811104380445,
                    -0.8298113357912744,
                    -0.5013953881210865,
                    -0.6942577875419212,
                    -0.3693790841674624,
                    -0.03964350326972685,
                    -0.3975291401579164,
                    -0.053338537757976576,
                    -0.26508213379150836,
                    0.09108317572949744,
                    -0.0985639384008502,
                    0.2610033838921029,
                    0.0517672570497159,
                    0.4018914501825534,
                    0.044103818381339616,
                    0.373969281148042,
                    0.6956605940298398,
                    0.4990504092756148,
                    0.8243721093587542,
                    0.6620603595308336,
                    0.9877102263158144,
                    0.8287069800923231,
                    1.1588302406341642,
                    0.9722085341031539,
                    1.3789336987599117,
                    1.114309654993501,
                    1.338081255152807,
                    1.2963763034150513,
                    1.490714948533087,
                    1.463505410297089,
                    1.6576281900796461,
                    1.62607144463741,
                    1.8334628393756076,
                    1.7472519060964888
                  ],
                  "xaxis": "x",
                  "y": [
                    1.9097227105857233,
                    1.572064562654731,
                    1.1714300798554855,
                    0.676730592670819,
                    0.18238866847978388,
                    -0.34149556709214096,
                    -0.8255267844857839,
                    -1.2836464394278848,
                    -1.6241794640658753,
                    1.919562839941531,
                    1.6758773459425984,
                    1.2166319378091548,
                    0.7525284215980033,
                    0.20799188424275952,
                    -0.2959918002598438,
                    -0.829606642707469,
                    -1.2885835313113743,
                    -1.7101676553853027,
                    -2,
                    1.987919677264935,
                    1.6984213835983837,
                    1.2873016388104421,
                    0.7744188379946791,
                    0.27576145786995526,
                    -0.2811940124319863,
                    -0.7781130238366314,
                    -1.2904703570132732,
                    -1.6980955149363013,
                    -1.9886863158558652,
                    1.9977289239008542,
                    1.7057500469836147,
                    1.2847149377394804,
                    0.825026619827593,
                    0.2917148152666882,
                    -0.209446874868128,
                    -0.7532251514381707,
                    -1.2127825851835696,
                    -1.672054691855307,
                    -1.9105925521811087,
                    1.6199505594646793,
                    1.2791079605202227,
                    0.8221357941321809,
                    0.3410621203169156,
                    -0.18148936038211125,
                    -0.6722107359682236,
                    -1.1655731187199907,
                    -1.5630006671981227,
                    -1.8998109708667508
                  ],
                  "yaxis": "y"
                },
                {
                  "hoverinfo": "text",
                  "hovertext": [
                    "Edge (0, 1): 0.9000",
                    "Edge (0, 9): 0.9000",
                    "Edge (1, 2): 0.9000",
                    "Edge (2, 3): 0.9000",
                    "Edge (2, 11): 0.9000",
                    "Edge (3, 4): 0.9000",
                    "Edge (4, 5): 0.9000",
                    "Edge (4, 13): 3.6000",
                    "Edge (5, 6): 0.9000",
                    "Edge (6, 7): 0.9000",
                    "Edge (6, 15): 0.9000",
                    "Edge (7, 8): 0.7000",
                    "Edge (8, 17): 0.7000",
                    "Edge (9, 10): 0.9000",
                    "Edge (10, 11): 0.9000",
                    "Edge (10, 20): 0.9000",
                    "Edge (11, 12): 0.9000",
                    "Edge (12, 13): 3.6000",
                    "Edge (12, 22): 0.9000",
                    "Edge (13, 14): 4.5000",
                    "Edge (14, 15): 0.9000",
                    "Edge (14, 24): 0.9000",
                    "Edge (15, 16): 0.9000",
                    "Edge (16, 17): 0.9000",
                    "Edge (16, 26): 0.9000",
                    "Edge (17, 18): 0.7000",
                    "Edge (18, 28): 0.5000",
                    "Edge (19, 20): 0.9000",
                    "Edge (19, 29): 0.9000",
                    "Edge (20, 21): 0.9000",
                    "Edge (21, 22): 0.9000",
                    "Edge (21, 31): 0.9000",
                    "Edge (22, 23): 0.9000",
                    "Edge (23, 24): 0.9000",
                    "Edge (23, 33): 0.9000",
                    "Edge (24, 25): 0.9000",
                    "Edge (25, 26): 0.9000",
                    "Edge (25, 35): 0.9000",
                    "Edge (26, 27): 0.9000",
                    "Edge (27, 28): 0.7000",
                    "Edge (27, 37): 0.9000",
                    "Edge (29, 30): 0.9000",
                    "Edge (30, 31): 0.9000",
                    "Edge (30, 39): 0.9000",
                    "Edge (31, 32): 0.9000",
                    "Edge (32, 33): 0.9000",
                    "Edge (32, 41): 0.9000",
                    "Edge (33, 34): 0.9000",
                    "Edge (34, 35): 0.9000",
                    "Edge (34, 43): 0.9000",
                    "Edge (35, 36): 0.9000",
                    "Edge (36, 37): 0.9000",
                    "Edge (36, 45): 0.9000",
                    "Edge (37, 38): 0.7000",
                    "Edge (38, 47): 0.5000",
                    "Edge (39, 40): 0.7000",
                    "Edge (40, 41): 0.7000",
                    "Edge (41, 42): 0.7000",
                    "Edge (42, 43): 0.7000",
                    "Edge (43, 44): 0.7000",
                    "Edge (44, 45): 0.7000",
                    "Edge (45, 46): 0.7000",
                    "Edge (46, 47): 0.5000"
                  ],
                  "line": {
                    "color": "gray",
                    "width": 2
                  },
                  "mode": "lines",
                  "showlegend": false,
                  "type": "scatter",
                  "x": [
                    -1.7358434020817661,
                    -1.8241418526614221,
                    null,
                    -1.7358434020817661,
                    -1.3694705679171484,
                    null,
                    -1.8241418526614221,
                    -1.6225906069793121,
                    null,
                    -1.6225906069793121,
                    -1.658741228046601,
                    null,
                    -1.6225906069793121,
                    -1.1566816239568498,
                    null,
                    -1.658741228046601,
                    -1.4689623930547897,
                    null,
                    -1.4689623930547897,
                    -1.4962057029462248,
                    null,
                    -1.4689623930547897,
                    -0.9935100146628741,
                    null,
                    -1.4962057029462248,
                    -1.3017323885937315,
                    null,
                    -1.3017323885937315,
                    -1.3400129950794843,
                    null,
                    -1.3017323885937315,
                    -0.8298113357912744,
                    null,
                    -1.3400129950794843,
                    -1.1134628373917932,
                    null,
                    -1.1134628373917932,
                    -0.6942577875419212,
                    null,
                    -1.3694705679171484,
                    -0.9664604629191816,
                    null,
                    -0.9664604629191816,
                    -1.1566816239568498,
                    null,
                    -0.9664604629191816,
                    -0.3975291401579164,
                    null,
                    -1.1566816239568498,
                    -0.8325554353354067,
                    null,
                    -0.8325554353354067,
                    -0.9935100146628741,
                    null,
                    -0.8325554353354067,
                    -0.26508213379150836,
                    null,
                    -0.9935100146628741,
                    -0.6693811104380445,
                    null,
                    -0.6693811104380445,
                    -0.8298113357912744,
                    null,
                    -0.6693811104380445,
                    -0.0985639384008502,
                    null,
                    -0.8298113357912744,
                    -0.5013953881210865,
                    null,
                    -0.5013953881210865,
                    -0.6942577875419212,
                    null,
                    -0.5013953881210865,
                    0.0517672570497159,
                    null,
                    -0.6942577875419212,
                    -0.3693790841674624,
                    null,
                    -0.3693790841674624,
                    0.044103818381339616,
                    null,
                    -0.03964350326972685,
                    -0.3975291401579164,
                    null,
                    -0.03964350326972685,
                    0.373969281148042,
                    null,
                    -0.3975291401579164,
                    -0.053338537757976576,
                    null,
                    -0.053338537757976576,
                    -0.26508213379150836,
                    null,
                    -0.053338537757976576,
                    0.4990504092756148,
                    null,
                    -0.26508213379150836,
                    0.09108317572949744,
                    null,
                    0.09108317572949744,
                    -0.0985639384008502,
                    null,
                    0.09108317572949744,
                    0.6620603595308336,
                    null,
                    -0.0985639384008502,
                    0.2610033838921029,
                    null,
                    0.2610033838921029,
                    0.0517672570497159,
                    null,
                    0.2610033838921029,
                    0.8287069800923231,
                    null,
                    0.0517672570497159,
                    0.4018914501825534,
                    null,
                    0.4018914501825534,
                    0.044103818381339616,
                    null,
                    0.4018914501825534,
                    0.9722085341031539,
                    null,
                    0.373969281148042,
                    0.6956605940298398,
                    null,
                    0.6956605940298398,
                    0.4990504092756148,
                    null,
                    0.6956605940298398,
                    1.114309654993501,
                    null,
                    0.4990504092756148,
                    0.8243721093587542,
                    null,
                    0.8243721093587542,
                    0.6620603595308336,
                    null,
                    0.8243721093587542,
                    1.2963763034150513,
                    null,
                    0.6620603595308336,
                    0.9877102263158144,
                    null,
                    0.9877102263158144,
                    0.8287069800923231,
                    null,
                    0.9877102263158144,
                    1.463505410297089,
                    null,
                    0.8287069800923231,
                    1.1588302406341642,
                    null,
                    1.1588302406341642,
                    0.9722085341031539,
                    null,
                    1.1588302406341642,
                    1.62607144463741,
                    null,
                    0.9722085341031539,
                    1.3789336987599117,
                    null,
                    1.3789336987599117,
                    1.7472519060964888,
                    null,
                    1.114309654993501,
                    1.338081255152807,
                    null,
                    1.338081255152807,
                    1.2963763034150513,
                    null,
                    1.2963763034150513,
                    1.490714948533087,
                    null,
                    1.490714948533087,
                    1.463505410297089,
                    null,
                    1.463505410297089,
                    1.6576281900796461,
                    null,
                    1.6576281900796461,
                    1.62607144463741,
                    null,
                    1.62607144463741,
                    1.8334628393756076,
                    null,
                    1.8334628393756076,
                    1.7472519060964888,
                    null
                  ],
                  "xaxis": "x2",
                  "y": [
                    1.9097227105857233,
                    1.572064562654731,
                    null,
                    1.9097227105857233,
                    1.919562839941531,
                    null,
                    1.572064562654731,
                    1.1714300798554855,
                    null,
                    1.1714300798554855,
                    0.676730592670819,
                    null,
                    1.1714300798554855,
                    1.2166319378091548,
                    null,
                    0.676730592670819,
                    0.18238866847978388,
                    null,
                    0.18238866847978388,
                    -0.34149556709214096,
                    null,
                    0.18238866847978388,
                    0.20799188424275952,
                    null,
                    -0.34149556709214096,
                    -0.8255267844857839,
                    null,
                    -0.8255267844857839,
                    -1.2836464394278848,
                    null,
                    -0.8255267844857839,
                    -0.829606642707469,
                    null,
                    -1.2836464394278848,
                    -1.6241794640658753,
                    null,
                    -1.6241794640658753,
                    -1.7101676553853027,
                    null,
                    1.919562839941531,
                    1.6758773459425984,
                    null,
                    1.6758773459425984,
                    1.2166319378091548,
                    null,
                    1.6758773459425984,
                    1.6984213835983837,
                    null,
                    1.2166319378091548,
                    0.7525284215980033,
                    null,
                    0.7525284215980033,
                    0.20799188424275952,
                    null,
                    0.7525284215980033,
                    0.7744188379946791,
                    null,
                    0.20799188424275952,
                    -0.2959918002598438,
                    null,
                    -0.2959918002598438,
                    -0.829606642707469,
                    null,
                    -0.2959918002598438,
                    -0.2811940124319863,
                    null,
                    -0.829606642707469,
                    -1.2885835313113743,
                    null,
                    -1.2885835313113743,
                    -1.7101676553853027,
                    null,
                    -1.2885835313113743,
                    -1.2904703570132732,
                    null,
                    -1.7101676553853027,
                    -2,
                    null,
                    -2,
                    -1.9886863158558652,
                    null,
                    1.987919677264935,
                    1.6984213835983837,
                    null,
                    1.987919677264935,
                    1.9977289239008542,
                    null,
                    1.6984213835983837,
                    1.2873016388104421,
                    null,
                    1.2873016388104421,
                    0.7744188379946791,
                    null,
                    1.2873016388104421,
                    1.2847149377394804,
                    null,
                    0.7744188379946791,
                    0.27576145786995526,
                    null,
                    0.27576145786995526,
                    -0.2811940124319863,
                    null,
                    0.27576145786995526,
                    0.2917148152666882,
                    null,
                    -0.2811940124319863,
                    -0.7781130238366314,
                    null,
                    -0.7781130238366314,
                    -1.2904703570132732,
                    null,
                    -0.7781130238366314,
                    -0.7532251514381707,
                    null,
                    -1.2904703570132732,
                    -1.6980955149363013,
                    null,
                    -1.6980955149363013,
                    -1.9886863158558652,
                    null,
                    -1.6980955149363013,
                    -1.672054691855307,
                    null,
                    1.9977289239008542,
                    1.7057500469836147,
                    null,
                    1.7057500469836147,
                    1.2847149377394804,
                    null,
                    1.7057500469836147,
                    1.6199505594646793,
                    null,
                    1.2847149377394804,
                    0.825026619827593,
                    null,
                    0.825026619827593,
                    0.2917148152666882,
                    null,
                    0.825026619827593,
                    0.8221357941321809,
                    null,
                    0.2917148152666882,
                    -0.209446874868128,
                    null,
                    -0.209446874868128,
                    -0.7532251514381707,
                    null,
                    -0.209446874868128,
                    -0.18148936038211125,
                    null,
                    -0.7532251514381707,
                    -1.2127825851835696,
                    null,
                    -1.2127825851835696,
                    -1.672054691855307,
                    null,
                    -1.2127825851835696,
                    -1.1655731187199907,
                    null,
                    -1.672054691855307,
                    -1.9105925521811087,
                    null,
                    -1.9105925521811087,
                    -1.8998109708667508,
                    null,
                    1.6199505594646793,
                    1.2791079605202227,
                    null,
                    1.2791079605202227,
                    0.8221357941321809,
                    null,
                    0.8221357941321809,
                    0.3410621203169156,
                    null,
                    0.3410621203169156,
                    -0.18148936038211125,
                    null,
                    -0.18148936038211125,
                    -0.6722107359682236,
                    null,
                    -0.6722107359682236,
                    -1.1655731187199907,
                    null,
                    -1.1655731187199907,
                    -1.5630006671981227,
                    null,
                    -1.5630006671981227,
                    -1.8998109708667508,
                    null
                  ],
                  "yaxis": "y2"
                },
                {
                  "hoverinfo": "text",
                  "hovertext": [
                    "Node 0<br>n_i: 2.5000",
                    "Node 1<br>n_i: 1.5000",
                    "Node 2<br>n_i: 2.5000",
                    "Node 3<br>n_i: 1.5000",
                    "Node 4<br>n_i: 2.5000",
                    "Node 5<br>n_i: 1.5000",
                    "Node 6<br>n_i: 2.5000",
                    "Node 7<br>n_i: 1.5000",
                    "Node 8<br>n_i: 1.5000",
                    "Node 9<br>n_i: 1.5000",
                    "Node 10<br>n_i: 2.5000",
                    "Node 11<br>n_i: 1.5000",
                    "Node 12<br>n_i: 2.5000",
                    "Node 13<br>n_i: 15.0000",
                    "Node 14<br>n_i: 2.5000",
                    "Node 15<br>n_i: 1.5000",
                    "Node 16<br>n_i: 2.5000",
                    "Node 17<br>n_i: 1.5000",
                    "Node 18<br>n_i: 1.5000",
                    "Node 19<br>n_i: 2.5000",
                    "Node 20<br>n_i: 1.5000",
                    "Node 21<br>n_i: 2.5000",
                    "Node 22<br>n_i: 1.5000",
                    "Node 23<br>n_i: 2.5000",
                    "Node 24<br>n_i: 1.5000",
                    "Node 25<br>n_i: 2.5000",
                    "Node 26<br>n_i: 1.5000",
                    "Node 27<br>n_i: 2.5000",
                    "Node 28<br>n_i: 0.5000",
                    "Node 29<br>n_i: 1.5000",
                    "Node 30<br>n_i: 2.5000",
                    "Node 31<br>n_i: 1.5000",
                    "Node 32<br>n_i: 2.5000",
                    "Node 33<br>n_i: 1.5000",
                    "Node 34<br>n_i: 2.5000",
                    "Node 35<br>n_i: 1.5000",
                    "Node 36<br>n_i: 2.5000",
                    "Node 37<br>n_i: 1.5000",
                    "Node 38<br>n_i: 1.5000",
                    "Node 39<br>n_i: 1.5000",
                    "Node 40<br>n_i: 1.5000",
                    "Node 41<br>n_i: 1.5000",
                    "Node 42<br>n_i: 1.5000",
                    "Node 43<br>n_i: 1.5000",
                    "Node 44<br>n_i: 1.5000",
                    "Node 45<br>n_i: 1.5000",
                    "Node 46<br>n_i: 1.5000",
                    "Node 47<br>n_i: 0.5000"
                  ],
                  "marker": {
                    "color": [
                      "lightgray",
                      "lightgray",
                      "lightgray",
                      "lightgray",
                      "lightgray",
                      "lightgray",
                      "lightgray",
                      "lightgray",
                      "lightgray",
                      "lightgray",
                      "lightgray",
                      "lightgray",
                      "lightgray",
                      "blue",
                      "lightgray",
                      "lightgray",
                      "lightgray",
                      "lightgray",
                      "lightgray",
                      "lightgray",
                      "lightgray",
                      "lightgray",
                      "green",
                      "red",
                      "green",
                      "lightgray",
                      "lightgray",
                      "lightgray",
                      "lightgray",
                      "lightgray",
                      "lightgray",
                      "lightgray",
                      "lightgray",
                      "green",
                      "lightgray",
                      "lightgray",
                      "lightgray",
                      "lightgray",
                      "lightgray",
                      "lightgray",
                      "lightgray",
                      "lightgray",
                      "lightgray",
                      "lightgray",
                      "lightgray",
                      "lightgray",
                      "lightgray",
                      "lightgray"
                    ],
                    "size": 10
                  },
                  "mode": "markers+text",
                  "showlegend": false,
                  "text": [
                    "0",
                    "1",
                    "2",
                    "3",
                    "4",
                    "5",
                    "6",
                    "7",
                    "8",
                    "9",
                    "10",
                    "11",
                    "12",
                    "13",
                    "14",
                    "15",
                    "16",
                    "17",
                    "18",
                    "19",
                    "20",
                    "21",
                    "22",
                    "23",
                    "24",
                    "25",
                    "26",
                    "27",
                    "28",
                    "29",
                    "30",
                    "31",
                    "32",
                    "33",
                    "34",
                    "35",
                    "36",
                    "37",
                    "38",
                    "39",
                    "40",
                    "41",
                    "42",
                    "43",
                    "44",
                    "45",
                    "46",
                    "47"
                  ],
                  "textposition": "top center",
                  "type": "scatter",
                  "x": [
                    -1.7358434020817661,
                    -1.8241418526614221,
                    -1.6225906069793121,
                    -1.658741228046601,
                    -1.4689623930547897,
                    -1.4962057029462248,
                    -1.3017323885937315,
                    -1.3400129950794843,
                    -1.1134628373917932,
                    -1.3694705679171484,
                    -0.9664604629191816,
                    -1.1566816239568498,
                    -0.8325554353354067,
                    -0.9935100146628741,
                    -0.6693811104380445,
                    -0.8298113357912744,
                    -0.5013953881210865,
                    -0.6942577875419212,
                    -0.3693790841674624,
                    -0.03964350326972685,
                    -0.3975291401579164,
                    -0.053338537757976576,
                    -0.26508213379150836,
                    0.09108317572949744,
                    -0.0985639384008502,
                    0.2610033838921029,
                    0.0517672570497159,
                    0.4018914501825534,
                    0.044103818381339616,
                    0.373969281148042,
                    0.6956605940298398,
                    0.4990504092756148,
                    0.8243721093587542,
                    0.6620603595308336,
                    0.9877102263158144,
                    0.8287069800923231,
                    1.1588302406341642,
                    0.9722085341031539,
                    1.3789336987599117,
                    1.114309654993501,
                    1.338081255152807,
                    1.2963763034150513,
                    1.490714948533087,
                    1.463505410297089,
                    1.6576281900796461,
                    1.62607144463741,
                    1.8334628393756076,
                    1.7472519060964888
                  ],
                  "xaxis": "x2",
                  "y": [
                    1.9097227105857233,
                    1.572064562654731,
                    1.1714300798554855,
                    0.676730592670819,
                    0.18238866847978388,
                    -0.34149556709214096,
                    -0.8255267844857839,
                    -1.2836464394278848,
                    -1.6241794640658753,
                    1.919562839941531,
                    1.6758773459425984,
                    1.2166319378091548,
                    0.7525284215980033,
                    0.20799188424275952,
                    -0.2959918002598438,
                    -0.829606642707469,
                    -1.2885835313113743,
                    -1.7101676553853027,
                    -2,
                    1.987919677264935,
                    1.6984213835983837,
                    1.2873016388104421,
                    0.7744188379946791,
                    0.27576145786995526,
                    -0.2811940124319863,
                    -0.7781130238366314,
                    -1.2904703570132732,
                    -1.6980955149363013,
                    -1.9886863158558652,
                    1.9977289239008542,
                    1.7057500469836147,
                    1.2847149377394804,
                    0.825026619827593,
                    0.2917148152666882,
                    -0.209446874868128,
                    -0.7532251514381707,
                    -1.2127825851835696,
                    -1.672054691855307,
                    -1.9105925521811087,
                    1.6199505594646793,
                    1.2791079605202227,
                    0.8221357941321809,
                    0.3410621203169156,
                    -0.18148936038211125,
                    -0.6722107359682236,
                    -1.1655731187199907,
                    -1.5630006671981227,
                    -1.8998109708667508
                  ],
                  "yaxis": "y2"
                }
              ],
              "layout": {
                "annotations": [
                  {
                    "font": {
                      "size": 16
                    },
                    "showarrow": false,
                    "text": "After First Run",
                    "x": 0.225,
                    "xanchor": "center",
                    "xref": "paper",
                    "y": 1,
                    "yanchor": "bottom",
                    "yref": "paper"
                  },
                  {
                    "font": {
                      "size": 16
                    },
                    "showarrow": false,
                    "text": "After Second Run",
                    "x": 0.775,
                    "xanchor": "center",
                    "xref": "paper",
                    "y": 1,
                    "yanchor": "bottom",
                    "yref": "paper"
                  }
                ],
                "height": 600,
                "showlegend": false,
                "template": {
                  "data": {
                    "bar": [
                      {
                        "error_x": {
                          "color": "#2a3f5f"
                        },
                        "error_y": {
                          "color": "#2a3f5f"
                        },
                        "marker": {
                          "line": {
                            "color": "#E5ECF6",
                            "width": 0.5
                          },
                          "pattern": {
                            "fillmode": "overlay",
                            "size": 10,
                            "solidity": 0.2
                          }
                        },
                        "type": "bar"
                      }
                    ],
                    "barpolar": [
                      {
                        "marker": {
                          "line": {
                            "color": "#E5ECF6",
                            "width": 0.5
                          },
                          "pattern": {
                            "fillmode": "overlay",
                            "size": 10,
                            "solidity": 0.2
                          }
                        },
                        "type": "barpolar"
                      }
                    ],
                    "carpet": [
                      {
                        "aaxis": {
                          "endlinecolor": "#2a3f5f",
                          "gridcolor": "white",
                          "linecolor": "white",
                          "minorgridcolor": "white",
                          "startlinecolor": "#2a3f5f"
                        },
                        "baxis": {
                          "endlinecolor": "#2a3f5f",
                          "gridcolor": "white",
                          "linecolor": "white",
                          "minorgridcolor": "white",
                          "startlinecolor": "#2a3f5f"
                        },
                        "type": "carpet"
                      }
                    ],
                    "choropleth": [
                      {
                        "colorbar": {
                          "outlinewidth": 0,
                          "ticks": ""
                        },
                        "type": "choropleth"
                      }
                    ],
                    "contour": [
                      {
                        "colorbar": {
                          "outlinewidth": 0,
                          "ticks": ""
                        },
                        "colorscale": [
                          [
                            0,
                            "#0d0887"
                          ],
                          [
                            0.1111111111111111,
                            "#46039f"
                          ],
                          [
                            0.2222222222222222,
                            "#7201a8"
                          ],
                          [
                            0.3333333333333333,
                            "#9c179e"
                          ],
                          [
                            0.4444444444444444,
                            "#bd3786"
                          ],
                          [
                            0.5555555555555556,
                            "#d8576b"
                          ],
                          [
                            0.6666666666666666,
                            "#ed7953"
                          ],
                          [
                            0.7777777777777778,
                            "#fb9f3a"
                          ],
                          [
                            0.8888888888888888,
                            "#fdca26"
                          ],
                          [
                            1,
                            "#f0f921"
                          ]
                        ],
                        "type": "contour"
                      }
                    ],
                    "contourcarpet": [
                      {
                        "colorbar": {
                          "outlinewidth": 0,
                          "ticks": ""
                        },
                        "type": "contourcarpet"
                      }
                    ],
                    "heatmap": [
                      {
                        "colorbar": {
                          "outlinewidth": 0,
                          "ticks": ""
                        },
                        "colorscale": [
                          [
                            0,
                            "#0d0887"
                          ],
                          [
                            0.1111111111111111,
                            "#46039f"
                          ],
                          [
                            0.2222222222222222,
                            "#7201a8"
                          ],
                          [
                            0.3333333333333333,
                            "#9c179e"
                          ],
                          [
                            0.4444444444444444,
                            "#bd3786"
                          ],
                          [
                            0.5555555555555556,
                            "#d8576b"
                          ],
                          [
                            0.6666666666666666,
                            "#ed7953"
                          ],
                          [
                            0.7777777777777778,
                            "#fb9f3a"
                          ],
                          [
                            0.8888888888888888,
                            "#fdca26"
                          ],
                          [
                            1,
                            "#f0f921"
                          ]
                        ],
                        "type": "heatmap"
                      }
                    ],
                    "histogram": [
                      {
                        "marker": {
                          "pattern": {
                            "fillmode": "overlay",
                            "size": 10,
                            "solidity": 0.2
                          }
                        },
                        "type": "histogram"
                      }
                    ],
                    "histogram2d": [
                      {
                        "colorbar": {
                          "outlinewidth": 0,
                          "ticks": ""
                        },
                        "colorscale": [
                          [
                            0,
                            "#0d0887"
                          ],
                          [
                            0.1111111111111111,
                            "#46039f"
                          ],
                          [
                            0.2222222222222222,
                            "#7201a8"
                          ],
                          [
                            0.3333333333333333,
                            "#9c179e"
                          ],
                          [
                            0.4444444444444444,
                            "#bd3786"
                          ],
                          [
                            0.5555555555555556,
                            "#d8576b"
                          ],
                          [
                            0.6666666666666666,
                            "#ed7953"
                          ],
                          [
                            0.7777777777777778,
                            "#fb9f3a"
                          ],
                          [
                            0.8888888888888888,
                            "#fdca26"
                          ],
                          [
                            1,
                            "#f0f921"
                          ]
                        ],
                        "type": "histogram2d"
                      }
                    ],
                    "histogram2dcontour": [
                      {
                        "colorbar": {
                          "outlinewidth": 0,
                          "ticks": ""
                        },
                        "colorscale": [
                          [
                            0,
                            "#0d0887"
                          ],
                          [
                            0.1111111111111111,
                            "#46039f"
                          ],
                          [
                            0.2222222222222222,
                            "#7201a8"
                          ],
                          [
                            0.3333333333333333,
                            "#9c179e"
                          ],
                          [
                            0.4444444444444444,
                            "#bd3786"
                          ],
                          [
                            0.5555555555555556,
                            "#d8576b"
                          ],
                          [
                            0.6666666666666666,
                            "#ed7953"
                          ],
                          [
                            0.7777777777777778,
                            "#fb9f3a"
                          ],
                          [
                            0.8888888888888888,
                            "#fdca26"
                          ],
                          [
                            1,
                            "#f0f921"
                          ]
                        ],
                        "type": "histogram2dcontour"
                      }
                    ],
                    "mesh3d": [
                      {
                        "colorbar": {
                          "outlinewidth": 0,
                          "ticks": ""
                        },
                        "type": "mesh3d"
                      }
                    ],
                    "parcoords": [
                      {
                        "line": {
                          "colorbar": {
                            "outlinewidth": 0,
                            "ticks": ""
                          }
                        },
                        "type": "parcoords"
                      }
                    ],
                    "pie": [
                      {
                        "automargin": true,
                        "type": "pie"
                      }
                    ],
                    "scatter": [
                      {
                        "fillpattern": {
                          "fillmode": "overlay",
                          "size": 10,
                          "solidity": 0.2
                        },
                        "type": "scatter"
                      }
                    ],
                    "scatter3d": [
                      {
                        "line": {
                          "colorbar": {
                            "outlinewidth": 0,
                            "ticks": ""
                          }
                        },
                        "marker": {
                          "colorbar": {
                            "outlinewidth": 0,
                            "ticks": ""
                          }
                        },
                        "type": "scatter3d"
                      }
                    ],
                    "scattercarpet": [
                      {
                        "marker": {
                          "colorbar": {
                            "outlinewidth": 0,
                            "ticks": ""
                          }
                        },
                        "type": "scattercarpet"
                      }
                    ],
                    "scattergeo": [
                      {
                        "marker": {
                          "colorbar": {
                            "outlinewidth": 0,
                            "ticks": ""
                          }
                        },
                        "type": "scattergeo"
                      }
                    ],
                    "scattergl": [
                      {
                        "marker": {
                          "colorbar": {
                            "outlinewidth": 0,
                            "ticks": ""
                          }
                        },
                        "type": "scattergl"
                      }
                    ],
                    "scattermap": [
                      {
                        "marker": {
                          "colorbar": {
                            "outlinewidth": 0,
                            "ticks": ""
                          }
                        },
                        "type": "scattermap"
                      }
                    ],
                    "scattermapbox": [
                      {
                        "marker": {
                          "colorbar": {
                            "outlinewidth": 0,
                            "ticks": ""
                          }
                        },
                        "type": "scattermapbox"
                      }
                    ],
                    "scatterpolar": [
                      {
                        "marker": {
                          "colorbar": {
                            "outlinewidth": 0,
                            "ticks": ""
                          }
                        },
                        "type": "scatterpolar"
                      }
                    ],
                    "scatterpolargl": [
                      {
                        "marker": {
                          "colorbar": {
                            "outlinewidth": 0,
                            "ticks": ""
                          }
                        },
                        "type": "scatterpolargl"
                      }
                    ],
                    "scatterternary": [
                      {
                        "marker": {
                          "colorbar": {
                            "outlinewidth": 0,
                            "ticks": ""
                          }
                        },
                        "type": "scatterternary"
                      }
                    ],
                    "surface": [
                      {
                        "colorbar": {
                          "outlinewidth": 0,
                          "ticks": ""
                        },
                        "colorscale": [
                          [
                            0,
                            "#0d0887"
                          ],
                          [
                            0.1111111111111111,
                            "#46039f"
                          ],
                          [
                            0.2222222222222222,
                            "#7201a8"
                          ],
                          [
                            0.3333333333333333,
                            "#9c179e"
                          ],
                          [
                            0.4444444444444444,
                            "#bd3786"
                          ],
                          [
                            0.5555555555555556,
                            "#d8576b"
                          ],
                          [
                            0.6666666666666666,
                            "#ed7953"
                          ],
                          [
                            0.7777777777777778,
                            "#fb9f3a"
                          ],
                          [
                            0.8888888888888888,
                            "#fdca26"
                          ],
                          [
                            1,
                            "#f0f921"
                          ]
                        ],
                        "type": "surface"
                      }
                    ],
                    "table": [
                      {
                        "cells": {
                          "fill": {
                            "color": "#EBF0F8"
                          },
                          "line": {
                            "color": "white"
                          }
                        },
                        "header": {
                          "fill": {
                            "color": "#C8D4E3"
                          },
                          "line": {
                            "color": "white"
                          }
                        },
                        "type": "table"
                      }
                    ]
                  },
                  "layout": {
                    "annotationdefaults": {
                      "arrowcolor": "#2a3f5f",
                      "arrowhead": 0,
                      "arrowwidth": 1
                    },
                    "autotypenumbers": "strict",
                    "coloraxis": {
                      "colorbar": {
                        "outlinewidth": 0,
                        "ticks": ""
                      }
                    },
                    "colorscale": {
                      "diverging": [
                        [
                          0,
                          "#8e0152"
                        ],
                        [
                          0.1,
                          "#c51b7d"
                        ],
                        [
                          0.2,
                          "#de77ae"
                        ],
                        [
                          0.3,
                          "#f1b6da"
                        ],
                        [
                          0.4,
                          "#fde0ef"
                        ],
                        [
                          0.5,
                          "#f7f7f7"
                        ],
                        [
                          0.6,
                          "#e6f5d0"
                        ],
                        [
                          0.7,
                          "#b8e186"
                        ],
                        [
                          0.8,
                          "#7fbc41"
                        ],
                        [
                          0.9,
                          "#4d9221"
                        ],
                        [
                          1,
                          "#276419"
                        ]
                      ],
                      "sequential": [
                        [
                          0,
                          "#0d0887"
                        ],
                        [
                          0.1111111111111111,
                          "#46039f"
                        ],
                        [
                          0.2222222222222222,
                          "#7201a8"
                        ],
                        [
                          0.3333333333333333,
                          "#9c179e"
                        ],
                        [
                          0.4444444444444444,
                          "#bd3786"
                        ],
                        [
                          0.5555555555555556,
                          "#d8576b"
                        ],
                        [
                          0.6666666666666666,
                          "#ed7953"
                        ],
                        [
                          0.7777777777777778,
                          "#fb9f3a"
                        ],
                        [
                          0.8888888888888888,
                          "#fdca26"
                        ],
                        [
                          1,
                          "#f0f921"
                        ]
                      ],
                      "sequentialminus": [
                        [
                          0,
                          "#0d0887"
                        ],
                        [
                          0.1111111111111111,
                          "#46039f"
                        ],
                        [
                          0.2222222222222222,
                          "#7201a8"
                        ],
                        [
                          0.3333333333333333,
                          "#9c179e"
                        ],
                        [
                          0.4444444444444444,
                          "#bd3786"
                        ],
                        [
                          0.5555555555555556,
                          "#d8576b"
                        ],
                        [
                          0.6666666666666666,
                          "#ed7953"
                        ],
                        [
                          0.7777777777777778,
                          "#fb9f3a"
                        ],
                        [
                          0.8888888888888888,
                          "#fdca26"
                        ],
                        [
                          1,
                          "#f0f921"
                        ]
                      ]
                    },
                    "colorway": [
                      "#636efa",
                      "#EF553B",
                      "#00cc96",
                      "#ab63fa",
                      "#FFA15A",
                      "#19d3f3",
                      "#FF6692",
                      "#B6E880",
                      "#FF97FF",
                      "#FECB52"
                    ],
                    "font": {
                      "color": "#2a3f5f"
                    },
                    "geo": {
                      "bgcolor": "white",
                      "lakecolor": "white",
                      "landcolor": "#E5ECF6",
                      "showlakes": true,
                      "showland": true,
                      "subunitcolor": "white"
                    },
                    "hoverlabel": {
                      "align": "left"
                    },
                    "hovermode": "closest",
                    "mapbox": {
                      "style": "light"
                    },
                    "paper_bgcolor": "white",
                    "plot_bgcolor": "#E5ECF6",
                    "polar": {
                      "angularaxis": {
                        "gridcolor": "white",
                        "linecolor": "white",
                        "ticks": ""
                      },
                      "bgcolor": "#E5ECF6",
                      "radialaxis": {
                        "gridcolor": "white",
                        "linecolor": "white",
                        "ticks": ""
                      }
                    },
                    "scene": {
                      "xaxis": {
                        "backgroundcolor": "#E5ECF6",
                        "gridcolor": "white",
                        "gridwidth": 2,
                        "linecolor": "white",
                        "showbackground": true,
                        "ticks": "",
                        "zerolinecolor": "white"
                      },
                      "yaxis": {
                        "backgroundcolor": "#E5ECF6",
                        "gridcolor": "white",
                        "gridwidth": 2,
                        "linecolor": "white",
                        "showbackground": true,
                        "ticks": "",
                        "zerolinecolor": "white"
                      },
                      "zaxis": {
                        "backgroundcolor": "#E5ECF6",
                        "gridcolor": "white",
                        "gridwidth": 2,
                        "linecolor": "white",
                        "showbackground": true,
                        "ticks": "",
                        "zerolinecolor": "white"
                      }
                    },
                    "shapedefaults": {
                      "line": {
                        "color": "#2a3f5f"
                      }
                    },
                    "ternary": {
                      "aaxis": {
                        "gridcolor": "white",
                        "linecolor": "white",
                        "ticks": ""
                      },
                      "baxis": {
                        "gridcolor": "white",
                        "linecolor": "white",
                        "ticks": ""
                      },
                      "bgcolor": "#E5ECF6",
                      "caxis": {
                        "gridcolor": "white",
                        "linecolor": "white",
                        "ticks": ""
                      }
                    },
                    "title": {
                      "x": 0.05
                    },
                    "xaxis": {
                      "automargin": true,
                      "gridcolor": "white",
                      "linecolor": "white",
                      "ticks": "",
                      "title": {
                        "standoff": 15
                      },
                      "zerolinecolor": "white",
                      "zerolinewidth": 2
                    },
                    "yaxis": {
                      "automargin": true,
                      "gridcolor": "white",
                      "linecolor": "white",
                      "ticks": "",
                      "title": {
                        "standoff": 15
                      },
                      "zerolinecolor": "white",
                      "zerolinewidth": 2
                    }
                  }
                },
                "title": {
                  "text": "Honeycomb Lattice: Center Node (Red), Far Node (Blue), Neighbors (Green)"
                },
                "width": 1200,
                "xaxis": {
                  "anchor": "y",
                  "domain": [
                    0,
                    0.45
                  ],
                  "showgrid": false,
                  "showticklabels": false,
                  "zeroline": false
                },
                "xaxis2": {
                  "anchor": "y2",
                  "domain": [
                    0.55,
                    1
                  ],
                  "showgrid": false,
                  "showticklabels": false,
                  "zeroline": false
                },
                "yaxis": {
                  "anchor": "x",
                  "domain": [
                    0,
                    1
                  ],
                  "showgrid": false,
                  "showticklabels": false,
                  "zeroline": false
                },
                "yaxis2": {
                  "anchor": "x2",
                  "domain": [
                    0,
                    1
                  ],
                  "showgrid": false,
                  "showticklabels": false,
                  "zeroline": false
                }
              }
            }
          },
          "metadata": {},
          "output_type": "display_data"
        },
        {
          "name": "stdout",
          "output_type": "stream",
          "text": [
            "Center node 23 feature (base): 2.5000\n",
            "Center node 23 feature (modified): 2.5000\n",
            "Locality test passed: Center node feature is invariant to changes outside the receptive field.\n"
          ]
        }
      ],
      "source": [
        "# Execution (⚠️ re-execute this part for correctly displaying the graph representation in your local device)\n",
        "if __name__ == \"__main__\":\n",
        "    test_locality(center_node=23,\n",
        "                  far_node=13)"
      ]
    },
    {
      "cell_type": "code",
      "execution_count": null,
      "metadata": {
        "colab": {
          "base_uri": "https://localhost:8080/",
          "height": 657
        },
        "id": "UULhnpWjLAlt",
        "outputId": "fafebf5e-c436-4f26-a2dd-87ca62230f8b"
      },
      "outputs": [
        {
          "data": {
            "image/png": "[encoded data removed]",
            "text/plain": [
              "<Figure size 1600x900 with 1 Axes>"
            ]
          },
          "metadata": {},
          "output_type": "display_data"
        }
      ],
      "source": [
        "## For making sure the image can be correctly rendered in any static reader\n",
        "\n",
        "url = \"https://raw.githubusercontent.com/mbc2009/Inferno/0ce745dcfcca999f998ddeba31642478472c09f1/AISI/newplot.png\"\n",
        "\n",
        "response = requests.get(url)\n",
        "img = mpimg.imread(BytesIO(response.content), format='png')\n",
        "\n",
        "plt.figure(figsize=(16, 9))\n",
        "plt.imshow(img)\n",
        "plt.axis('off')\n",
        "plt.show()"
      ]
    },
    {
      "cell_type": "markdown",
      "metadata": {
        "id": "L8QAdKtqOOUu"
      },
      "source": [
        "**Result Analysis**  \n",
        "\n",
        "When changing the mode state of `far_node' (node $k$ outside of the receptive field) $\\mathbf{n}A^{k=13,L-1}$ from 1.5 tp 15, the node state of the center node $i$ $\\mathbf{n}A^{k=23,L}$ remains 2.5 unchanged after 1 iteration.\n",
        "\n",
        "This confirms that the DeePTB update framework is invariant to changes outside the nearest-neighbor range, satisfying strict locality."
      ]
    },
    {
      "cell_type": "markdown",
      "metadata": {
        "id": "g7azypV9vkRQ"
      },
      "source": [
        "---\n",
        "## 3.4. <a id='toc3_4_'></a>[Q3d](#toc0_)"
      ]
    },
    {
      "cell_type": "markdown",
      "metadata": {
        "id": "bA_tR-p0Q9kS"
      },
      "source": [
        "The traditional approach to GNN training often involves storing an adjacency matrix:\n",
        "$$\n",
        "E\n",
        "=\n",
        "\\left( e^{ij} \\right)_{1 \\leq i, j \\leq n-1} \\;\\;\n",
        "=\n",
        "\\begin{bmatrix}\n",
        "e^{00} & e^{01} & \\dots & e^{0,n-1} \\\\\n",
        "e^{10} & e^{11} & \\dots & e^{1,n-1} \\\\\n",
        "\\vdots &        &       & \\vdots \\\\\n",
        "e^{n0} & e^{n1} & \\dots & e^{n,n-1}\n",
        "\\end{bmatrix}\n",
        "$$\n",
        "which contains edge state information $\\mathbf{e}^{ij}$ for all nodes $i$ and $j$.\n",
        "\n",
        "Given the large number of nodes $n$, $E$ is typically a massive and sparse matrix, often leading to out-of-memory issues on a single device. While an adjacency list is an alternative, it can also cause problems as the feature tensor length increases.\n",
        "\n",
        "As the number of iterations increases, the layer depth grows, and local information from each node gradually propagates to a global scale. This requires loading the entire adjacency matrix (or adjacency list) at once, incurring a space complexity of $\\mathcal{O}(n^2)$ (or $\\mathcal{O}(n \\cdot d)$ for an adjacency list, where $d$ is the number of edges).\n",
        "\n",
        "In contrast, DeePTB operates differently due to its strict locality, where the number of adjacent neighbor nodes $j \\in N(i)$ is limited and controlled. This reduces the space complexity to $\\mathcal{O}(n \\cdot k)$, where $k$ is the number of neighboring nodes within the receptive field (e.g., $k = 3$ for a honeycomb lattice)."
      ]
    },
    {
      "cell_type": "markdown",
      "metadata": {
        "id": "FyUkyOLZuxLD"
      },
      "source": [
        "For achieving parallelism, we can:\n",
        "\n",
        "\n",
        "1. **Graph Partitioning**  \n",
        "   - Divide graph \\( G \\) into \\( P \\) subgraphs using an algorithm like METIS, minimizing cut edges.  \n",
        "   - Assign each subgraph \\( G_i \\) to a device.\n",
        "\n",
        "2. **Boundary & Halo Management**  \n",
        "   - Identify boundary nodes \\( B_i \\) in \\( G_i \\) (nodes linked to other subgraphs).  \n",
        "   - Create a halo region per subgraph, including boundary nodes from neighbors.\n",
        "\n",
        "3. **Parallel Inference**  \n",
        "   - Each device computes GNN updates for its subgraph using local and halo node features.  \n",
        "   - After each layer, exchange updated boundary features with neighboring devices.\n",
        "\n",
        "4. **Optimization**  \n",
        "   - Use non-blocking communication (e.g., MPI) to overlap computation and data transfer.  \n",
        "   - Limit communication to boundary features.\n",
        "\n",
        "\n",
        "**Pseudocode (C++-like)**\n",
        "```cpp\n",
        "void multi_device_inference(Graph G, int num_devices) {\n",
        "    // Partition graph\n",
        "    auto partitions = partition_graph(G, num_devices);\n",
        "    Subgraph G_i = partitions[my_rank];\n",
        "    auto B_i = get_boundary_nodes(G_i, partitions);\n",
        "    auto halo = get_halo_nodes(B_i, partitions);\n",
        "\n",
        "    // GNN inference loop\n",
        "    for each layer in GNN {\n",
        "        compute_local_updates(G_i, node_features, edge_features);\n",
        "        for each neighbor_device {\n",
        "            send_boundary_features(neighbor_device, B_i);\n",
        "            recv_halo_features(neighbor_device, halo);\n",
        "        }\n",
        "        wait_for_communication();\n",
        "    }\n",
        "}\n",
        "```\n",
        "\n",
        "**Vital Difficulties**\n",
        "\n",
        "Since the way of connection of GNN is random and fully customized, unlike topology such as binary tree or dragonfly, Graph in GNN is very difficult to come up with a generally and reliable mapping method to map from the source topology (Graph) to the target topology (*e.g.*, hypercubic).\n",
        "Therefore, parallelization will face fatal problems such as  load balancing, communication lag, and synchronization.\n"
      ]
    }
  ],
  "metadata": {
    "accelerator": "GPU",
    "colab": {
      "gpuType": "L4",
      "machine_shape": "hm",
      "name": "Markdown Guide",
      "provenance": [],
      "toc_visible": true,
      "include_colab_link": true
    },
    "kernelspec": {
      "display_name": "env4lammps",
      "language": "python",
      "name": "python3"
    },
    "language_info": {
      "codemirror_mode": {
        "name": "ipython",
        "version": 3
      },
      "file_extension": ".py",
      "mimetype": "text/x-python",
      "name": "python",
      "nbconvert_exporter": "python",
      "pygments_lexer": "ipython3",
      "version": "3.10.15"
    }
  },
  "nbformat": 4,
  "nbformat_minor": 0
}