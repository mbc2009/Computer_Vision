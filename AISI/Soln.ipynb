{
  "cells": [
    {
      "cell_type": "markdown",
      "metadata": {
        "id": "view-in-github",
        "colab_type": "text"
      },
      "source": [
        "<a href=\"https://colab.research.google.com/github/mbc2009/Inferno/blob/main/AISI/Soln.ipynb\" target=\"_parent\"><img src=\"https://colab.research.google.com/assets/colab-badge.svg\" alt=\"Open In Colab\"/></a>"
      ]
    },
    {
      "cell_type": "markdown",
      "metadata": {
        "id": "Y475n-DE0jlO"
      },
      "source": [
        "<a href=\"https://colab.research.google.com/github/mbc2009/Inferno/blob/main/Soln.ipynb\" target=\"_parent\"><img src=\"https://colab.research.google.com/assets/colab-badge.svg\" alt=\"Open In Colab\"/></a>"
      ]
    },
    {
      "cell_type": "markdown",
      "metadata": {
        "id": "VUmjdeHY0jlU"
      },
      "source": [
        "**TOC**<a id='toc0_'></a>    \n",
        "1. [Q3](#toc1_)    \n",
        "1.1. [a](#toc1_1_)    \n",
        "1.1.1. [Principle of Operation](#toc1_1_1_)    \n",
        "\n",
        "<!-- vscode-jupyter-toc-config\n",
        "\tnumbering=true\n",
        "\tanchor=true\n",
        "\tflat=true\n",
        "\tminLevel=1\n",
        "\tmaxLevel=6\n",
        "\t/vscode-jupyter-toc-config -->\n",
        "<!-- THIS CELL WILL BE REPLACED ON TOC UPDATE. DO NOT WRITE YOUR TEXT IN THIS CELL -->"
      ]
    },
    {
      "cell_type": "markdown",
      "metadata": {
        "id": "6CFssgeW0jlU"
      },
      "source": [
        "# 1. <a id='toc1_'></a>[Q3](#toc0_)"
      ]
    },
    {
      "cell_type": "markdown",
      "metadata": {
        "id": "S5M_XVEa0jlV"
      },
      "source": [
        "## 1.1. <a id='toc1_1_'></a>[a](#toc0_)"
      ]
    },
    {
      "cell_type": "markdown",
      "metadata": {
        "id": "4szSp74Z0jlV"
      },
      "source": [
        "Basically, at each level, the GNN/MPNN model will iteratively extract the information from the previous and current levellevels and execute the following three updating rules,  propagating information from local to global scales to update node and edge representations:\n",
        "\n",
        "**Step 1. Message Generating**\n",
        "\n",
        "The message $\\mathbf{m}^{ij,L}$ integrates the state of the sending node $j$ and the receiving node $i$, along with the edge information $\\mathbf{e}^{ij,L-1}$ from their relationship at the previous $(L-1)^{\\text{th}}$ level.\n",
        "$$\n",
        "\\begin{aligned}\n",
        "&\\boxed{\n",
        "  \\mathbf{m}^{ij,L}\n",
        "  \\;=\\;\n",
        "  M_L\n",
        "  \\left(\n",
        "    \\mathbf{n}^{i,L-1},\\,\n",
        "    \\mathbf{n}^{j,L-1},\\,\n",
        "    \\mathbf{e}^{ij,L-1}\\;\\;\n",
        "  \\right)\n",
        "}\\\\\n",
        "&\\text{\n",
        "  $\\mathbf{m}^{ij,L}$: Message vector sent from node $j$ to node $i$ at the $L^{\\text{th}}$ level.}\\\\\n",
        "&\\text{  \n",
        "  $\\mathbf{M_L}$: Learnable message function with parameters specific to level $L$, typically implemented as a neural network (e.g., MLP).}\\\\\n",
        "&\\text{  \n",
        "  $\\mathbf{n}^{i,L-1} \\& \\mathbf{n}^{j,L-1}$: State (or feature) vectors of nodes $i$ and $j$ at the previous $(L-1)^{\\text{th}}$ level.}\\\\\n",
        "&\\text{  \n",
        "  $\\mathbf{e}^{ij,L-1}$: State (or feature) vector of the edge between nodes $i$ and $j$ at the previous $(L-1)^{\\text{th}}$ level.}\\\\\n",
        "\\end{aligned}\n",
        "$$\n",
        "\n",
        "**Step 2. Node Updating**\n",
        "\n",
        "The updated node state $\\mathbf{n}^{i,L}$ is computed by aggregating messages from all neighboring nodes $j$ and combining them with the node's previous state $\\mathbf{n}^{i,L-1}$ .\n",
        "Usually, the operator $U_L$ here is a weighted summation followed by an activation function.\n",
        "$$\n",
        "\\begin{aligned}\n",
        "&\\boxed{\n",
        "  \\mathbf{n}^{i,L}\n",
        "  \\;=\\;\n",
        "  U_L\\!\n",
        "  \\left(\n",
        "    \\mathbf{n}^{i,L-1},\\,\n",
        "    \\sum_{j \\in \\mathcal{N}(i)}\n",
        "    \\mathbf{m}^{ij,L}\\;\\;\n",
        "  \\right)\n",
        "}\\\\\n",
        "&\\text{\n",
        "  $\\mathbf{n}^{i,L}$: Updated state vector of node $i$ at the $L^{\\text{th}}$ level.}\\\\\n",
        "&\\text{  \n",
        "  $U_L$: Learnable update function for level $L$, typically a neural network.}\\\\\n",
        "&\\text{  \n",
        "  $\\sum_{j \\in \\mathcal{N}(i)}, \\mathbf{m}^{ij,L}$: Sum of messages from all neighbors $j$ in the neighborhood $\\mathcal{N}(i)$ of node $i$.}\\\\\n",
        "\\end{aligned}\n",
        "$$\n",
        "\n",
        "**Step 3. Edge Updating**\n",
        "\n",
        "The current edge state $\\mathbf{e}^{ij,L}$ of the edge between $i$ and $j$, $(i,j)$, is updated based on the current states of the connected nodes $i$ and nodes $j$ and their previous edge state.\n",
        "$$\n",
        "\\begin{aligned}\n",
        "&\\boxed{\n",
        "  \\mathbf{e}^{ij,L}\n",
        "  \\;=\\;\n",
        "  \\mathcal{N}_L\n",
        "  \\left(\n",
        "      \\mathbf{n}^{i,L},\\,\n",
        "      \\mathbf{n}^{j,L},\\,\n",
        "      \\mathbf{e}^{ij,L-1}\\,\\,\n",
        "  \\right)\n",
        "}\\\\\n",
        "&\\text{\n",
        "  $\\mathbf{e}^{ij,L}$: Updated state vector of the edge between nodes $i$ and $j$ at the $L^{\\text{th}}$ level.}\\\\\n",
        "&\\text{\n",
        "  $\\mathcal{N}_L$: Learnable edge update function for level $L$, typically a neural network.}\\\\\n",
        "&\\text{\n",
        "  $\\mathbf{n}^{i,L} \\,\\&\\, \\mathbf{n}^{j,L}$: Current state vectors of nodes $i$ and $j$.}\\\\\n",
        "&\\text{\n",
        "  $\\mathbf{e}^{ij,L-1}$: Previous state vector of the edge at the $(L-1)^{\\text{th}}$ level.}\\\\\n",
        "\\end{aligned}\n",
        "$$"
      ]
    }
  ],
  "metadata": {
    "colab": {
      "name": "Markdown Guide",
      "provenance": [],
      "toc_visible": true,
      "include_colab_link": true
    },
    "kernelspec": {
      "display_name": "Python 3",
      "name": "python3"
    }
  },
  "nbformat": 4,
  "nbformat_minor": 0
}